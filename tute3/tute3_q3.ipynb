{
 "cells": [
  {
   "cell_type": "code",
   "execution_count": 5,
   "id": "a119a2c0",
   "metadata": {},
   "outputs": [],
   "source": [
    "from collections import namedtuple\n",
    "from numpy import eye, count_nonzero, max, min\n",
    "from scipy.linalg import norm, cholesky, toeplitz, LinAlgError, eigvals, svdvals\n",
    "from scipy.sparse import csr_matrix, issparse"
   ]
  },
  {
   "cell_type": "markdown",
   "id": "1c2f83df",
   "metadata": {},
   "source": [
    "### Question 3\n",
    "\n",
    "Write a function `matstruc(A, tol)` that returns a named tuple $s$ describing various structural properties of a matrix $A$.\n",
    "\n",
    "This question is an exercise in syntax. Look at the comment headers, and the code tells you how to compute it."
   ]
  },
  {
   "cell_type": "code",
   "execution_count": null,
   "id": "d9d19768",
   "metadata": {},
   "outputs": [],
   "source": [
    "# Setting up the named tuple (basically just a class/object)\n",
    "# some are missing... oh well. Q1 and Q2 cover a lot.\n",
    "\n",
    "MatrixStructure = namedtuple('MatrixStructure', [\n",
    "    'size',\n",
    "    'symmetric',\n",
    "    'zero_rows',\n",
    "    'zero_cols',\n",
    "    'bandwidth',\n",
    "    'sparse_percent',\n",
    "    'is_upper_tri',\n",
    "    'is_lower_tri',\n",
    "    'is_diag'\n",
    "])"
   ]
  },
  {
   "cell_type": "code",
   "execution_count": null,
   "id": "1d04f8f0",
   "metadata": {},
   "outputs": [],
   "source": [
    "import numpy as np\n",
    "\n",
    "def matstruc(A, tol=1e-12):\n",
    "    m, n = A.shape\n",
    "    \n",
    "    # Symmetry check\n",
    "    symmetric = (m == n) and np.allclose(A, A.T, atol=tol)\n",
    "\n",
    "    # Zero rows (rows that are all 0s)\n",
    "    row_norms = np.linalg.norm(A, axis=1)\n",
    "    zero_rows = np.sum(row_norms < tol)\n",
    "\n",
    "    # Zero columns (columns that are all 0s)\n",
    "    col_norms = np.linalg.norm(A, axis=0)\n",
    "    zero_cols = np.sum(col_norms < tol)\n",
    "\n",
    "    # Bandwidth: max(|i - j|) for A[i, j] ≠ 0\n",
    "    bandwidth = 0\n",
    "    for i in range(m):\n",
    "        for j in range(n):\n",
    "            if abs(A[i, j]) > tol:\n",
    "                bandwidth = max(bandwidth, abs(i - j))\n",
    "\n",
    "    # Sparsity: % of zero elements\n",
    "    total_elements = m * n\n",
    "    num_nonzero = np.count_nonzero(np.abs(A) > tol)\n",
    "    sparse_percent = 100 * (1 - num_nonzero / total_elements)\n",
    "\n",
    "    # Triangular and diagonal checks\n",
    "    is_upper_tri = np.allclose(A, np.triu(A), atol=tol)\n",
    "    is_lower_tri = np.allclose(A, np.tril(A), atol=tol)\n",
    "    is_diag = is_upper_tri and is_lower_tri  # Diagonal ⇒ both\n",
    "\n",
    "    # Package into named tuple\n",
    "    return MatrixStructure(\n",
    "        size=(m, n),\n",
    "        symmetric=symmetric,\n",
    "        zero_rows=int(zero_rows),\n",
    "        zero_cols=int(zero_cols),\n",
    "        bandwidth=int(bandwidth),\n",
    "        sparse_percent=sparse_percent,\n",
    "        is_upper_tri=is_upper_tri,\n",
    "        is_lower_tri=is_lower_tri,\n",
    "        is_diag=is_diag\n",
    "    )\n"
   ]
  }
 ],
 "metadata": {
  "kernelspec": {
   "display_name": "Python 3",
   "language": "python",
   "name": "python3"
  },
  "language_info": {
   "codemirror_mode": {
    "name": "ipython",
    "version": 3
   },
   "file_extension": ".py",
   "mimetype": "text/x-python",
   "name": "python",
   "nbconvert_exporter": "python",
   "pygments_lexer": "ipython3",
   "version": "3.10.12"
  }
 },
 "nbformat": 4,
 "nbformat_minor": 5
}
