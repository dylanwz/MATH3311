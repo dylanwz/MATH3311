{
 "cells": [
  {
   "cell_type": "code",
   "execution_count": 10,
   "id": "c680db86",
   "metadata": {},
   "outputs": [],
   "source": [
    "import numpy as np\n",
    "from numpy import maximum, finfo, all, flip, arange, count_nonzero, min, max, floor, log10, prod, diag, eye\n",
    "from numpy.linalg import cond, eig\n",
    "from scipy.linalg import cholesky, det, inv, LinAlgError\n",
    "import matplotlib.pyplot as plt\n",
    "from matplotlib.pyplot import semilogy, title, grid\n",
    "from mat2npy import K"
   ]
  },
  {
   "cell_type": "markdown",
   "id": "1b536515",
   "metadata": {},
   "source": [
    "## Question 1\n",
    "In this question, you are asked to perform a number of tests and then give your opinion,\n",
    "with reasons, as to whether the matrix is a valid correlation matrix. "
   ]
  },
  {
   "cell_type": "code",
   "execution_count": null,
   "id": "87300d8a",
   "metadata": {},
   "outputs": [
    {
     "name": "stdout",
     "output_type": "stream",
     "text": [
      "(500, 500)\n",
      "True\n"
     ]
    }
   ],
   "source": [
    "# (1)(a): What are the dimensions of K? Is K square?\n",
    "\n",
    "print(K.shape)\n",
    "print(K.shape[0] == K.shape[1])\n",
    "\n",
    "# (Explanation).\n",
    "#   - `np.shape` returns 'depth' of arrays, e.g. [[], [], ..., []] = 2."
   ]
  },
  {
   "cell_type": "code",
   "execution_count": null,
   "id": "e6489fe0",
   "metadata": {},
   "outputs": [
    {
     "name": "stdout",
     "output_type": "stream",
     "text": [
      "Is symmetric: True\n"
     ]
    }
   ],
   "source": [
    "# (1)(b): Is K symmetric?\n",
    "\n",
    "is_symmetric = np.allclose(K, K.T, atol=1e-12)\n",
    "print(\"Is symmetric:\", is_symmetric)\n",
    "\n",
    "# (Explanation).\n",
    "#   - A correlation matrix must be symmetric.\n",
    "#   - Syntax: `np.allclose(A, B)` compares if two matrices are equal with a given tolerance."
   ]
  },
  {
   "cell_type": "code",
   "execution_count": null,
   "id": "08a4f253",
   "metadata": {},
   "outputs": [],
   "source": [
    "# (1)(c): Is K positive definite?\n",
    "\n",
    "try:\n",
    "    R = cholesky(K)\n",
    "    is_posdef = True\n",
    "except LinAlgError:\n",
    "    is_posdef = False\n",
    "print(\"Is positive definite:\", is_posdef)\n",
    "\n",
    "# (Explanation).\n",
    "#   - If we can find a Cholesky decomposition, then it is positive definition \n",
    "#       - since a Cholesky decomposition exists iff it is square and p.d.."
   ]
  },
  {
   "cell_type": "code",
   "execution_count": null,
   "id": "28e3078e",
   "metadata": {},
   "outputs": [
    {
     "data": {
      "image/png": "[encoded data removed]",
      "text/plain": [
       "<Figure size 640x480 with 1 Axes>"
      ]
     },
     "metadata": {},
     "output_type": "display_data"
    },
    {
     "name": "stdout",
     "output_type": "stream",
     "text": [
      "Largest eigenvalue: 45.718466277213025\n",
      "Smallest eigenvalue: 2.8184232446666624e-06\n"
     ]
    }
   ],
   "source": [
    "# (1)(d): Plot eigenvalues in descending order; find min and max\n",
    "\n",
    "eigenvalues = np.linalg.eigvalsh(K)\n",
    "sorted_eigs = np.flip(np.sort(eigenvalues))\n",
    "\n",
    "plt.semilogy(sorted_eigs)\n",
    "plt.title(\"Eigenvalues of K (descending)\")\n",
    "plt.grid()\n",
    "plt.show()\n",
    "\n",
    "print(\"Largest eigenvalue:\", sorted_eigs[0])\n",
    "print(\"Smallest eigenvalue:\", sorted_eigs[-1])"
   ]
  },
  {
   "cell_type": "code",
   "execution_count": null,
   "id": "4b751d4d",
   "metadata": {},
   "outputs": [
    {
     "name": "stdout",
     "output_type": "stream",
     "text": [
      "Det (direct): 0.0\n",
      "Det (Cholesky): 0.0\n",
      "Det (eigenvalues): 0.0\n"
     ]
    }
   ],
   "source": [
    "# (1)(e): Compute determinant with three methods\n",
    "\n",
    "# i. Direct\n",
    "det_direct = det(K)\n",
    "\n",
    "# ii. Using Cholesky: det(K) = det(R^T R) = det(R)^2\n",
    "try:\n",
    "    R = cholesky(K)\n",
    "    det_cholesky = np.prod(np.diag(R))**2\n",
    "except:\n",
    "    det_cholesky = None\n",
    "\n",
    "# iii. Using eigenvalues\n",
    "det_eigs = np.prod(eigenvalues)\n",
    "\n",
    "print(\"Det (direct):\", det_direct)\n",
    "print(\"Det (Cholesky):\", det_cholesky)\n",
    "print(\"Det (eigenvalues):\", det_eigs)"
   ]
  },
  {
   "cell_type": "code",
   "execution_count": 14,
   "id": "81558cfa",
   "metadata": {},
   "outputs": [
    {
     "name": "stdout",
     "output_type": "stream",
     "text": [
      "All diagonal entries are 1: True\n"
     ]
    }
   ],
   "source": [
    "# (1)(f): Are all diagonals equal to 1?\n",
    "\n",
    "diag_is_1 = np.allclose(np.diag(K), 1.0, atol=1e-12)\n",
    "print(\"All diagonal entries are 1:\", diag_is_1)\n",
    "\n",
    "# (Explanation).\n",
    "#   - correlation matrices have 1 on the diagonal"
   ]
  },
  {
   "cell_type": "code",
   "execution_count": null,
   "id": "a56e19ad",
   "metadata": {},
   "outputs": [
    {
     "name": "stdout",
     "output_type": "stream",
     "text": [
      "Min correlation (off-diagonal): 0.0\n",
      "Max correlation (off-diagonal): 0.9999838411368828\n"
     ]
    }
   ],
   "source": [
    "# (1)(g): Min and Max are off-diagonal correlations\n",
    "\n",
    "off_diag = K[~np.eye(K.shape[0],dtype=bool)]\n",
    "print(\"Min correlation (off-diagonal):\", np.min(off_diag))\n",
    "print(\"Max correlation (off-diagonal):\", np.max(off_diag))\n",
    "\n",
    "# (Explanation).\n",
    "#   - Syntax: `np.eye(K.shape[0], dtype=bool)` makes an m-sized matrix (if K is m by n) with diagonals true, and all else false; \"eye\" = I\n",
    "#       - then the `~` negates this\n",
    "#       - and `K[...]` only gets the indices where the mask is true, so we get all non-diagonal entries.\n",
    "#   - Min should be >= -1, Max should be <= 1"
   ]
  },
  {
   "cell_type": "code",
   "execution_count": null,
   "id": "c53140ae",
   "metadata": {},
   "outputs": [
    {
     "name": "stdout",
     "output_type": "stream",
     "text": [
      "Non-zero percentage: 64.056\n"
     ]
    }
   ],
   "source": [
    "# (1)(h): What percentage of the elements are non-zero?\n",
    "\n",
    "nnz = np.count_nonzero(K)\n",
    "total = K.size\n",
    "sparsity_percent = 100 * nnz / total\n",
    "print(\"Non-zero percentage:\", sparsity_percent)\n",
    "\n",
    "# (Explanation).\n",
    "#   - Indicates how sparse the matrix is."
   ]
  },
  {
   "cell_type": "code",
   "execution_count": null,
   "id": "6db39e1c",
   "metadata": {},
   "outputs": [
    {
     "name": "stdout",
     "output_type": "stream",
     "text": [
      "K is nonsingular (inverse exists)\n"
     ]
    }
   ],
   "source": [
    "# (1)(g): Singularity\n",
    "\n",
    "try:\n",
    "    K_inv = inv(K)\n",
    "    print(\"K is nonsingular (inverse exists)\")\n",
    "except LinAlgError:\n",
    "    print(\"K is singular (inverse does not exist)\")"
   ]
  },
  {
   "cell_type": "code",
   "execution_count": null,
   "id": "ecd7f83b",
   "metadata": {},
   "outputs": [
    {
     "name": "stdout",
     "output_type": "stream",
     "text": [
      "Alpha (with inverse): 5135.62153652947\n",
      "Alpha (efficient solve): 5135.6215365294975\n"
     ]
    }
   ],
   "source": [
    "# (1)(j): Compute 𝛼=𝑏^𝑇 𝐾^{−1} 𝑏\n",
    "\n",
    "b = np.random.rand(K.shape[0])\n",
    "alpha = b @ inv(K) @ b  # inefficient\n",
    "alpha_efficient = b @ np.linalg.solve(K, b)  # efficient\n",
    "print(\"Alpha (with inverse):\", alpha)\n",
    "print(\"Alpha (efficient solve):\", alpha_efficient)\n",
    "\n",
    "# (Explanation).\n",
    "#   - Inverting a matrix is costly; O(n^3)\n",
    "#       - it can also amplify rounding errors.\n",
    "#   - Instead solve Kx = b to get x = K^{-1}b so that b * x = b * K^{-1} b which is what we want\n",
    "#   - The `@` means matrix multiplication; we don't need b.T here because it will still be a 1D vector... Python things "
   ]
  },
  {
   "cell_type": "code",
   "execution_count": null,
   "id": "fa9cdfe8",
   "metadata": {},
   "outputs": [
    {
     "name": "stdout",
     "output_type": "stream",
     "text": [
      "Condition number (2-norm): 16221291.945628477\n",
      "Approx significant figures in solution:  8\n"
     ]
    }
   ],
   "source": [
    "# (1)(k): Condition Number and Significant Figures\n",
    "\n",
    "kappa = cond(K, 2)\n",
    "print(\"Condition number (2-norm):\", kappa)\n",
    "sig_figs = int(np.floor(-np.log10(kappa))) + 16\n",
    "print(\"Approx significant figures in solution: \", sig_figs)\n",
    "\n",
    "# (Explanation).\n",
    "#   - Calculation as normal.\n",
    "#   - Sig. figs. = 16 (precision of float64) - log_10(n) (how many digits will be corrupted)\n",
    "#       - think shifting digits, but instead being corrupted...\n",
    "#       - if multiply by 10, then where ever the last uncertain digit is, it will shift over by 1\n",
    "#       - and a new uncertain digit will be produced. "
   ]
  },
  {
   "cell_type": "code",
   "execution_count": null,
   "id": "6cc7d9ff",
   "metadata": {},
   "outputs": [
    {
     "name": "stdout",
     "output_type": "stream",
     "text": [
      "Is K real-valued: True\n",
      "Does K have negative eigenvalues: False\n"
     ]
    }
   ],
   "source": [
    "# (1)(l): Any other tests?\n",
    "\n",
    "print(\"Is K real-valued:\", np.isrealobj(K))\n",
    "print(\"Does K have negative eigenvalues:\", np.any(eigenvalues < 0))\n",
    "\n",
    "# (Explanation).\n",
    "#   - Real-valuedness (correlation must be real) and negative eigenvalues (must be positive definite)"
   ]
  },
  {
   "cell_type": "code",
   "execution_count": 19,
   "id": "6eb77edf",
   "metadata": {},
   "outputs": [],
   "source": [
    "# (1)(k): Conclusion\n",
    "\n",
    "# Yes, it may be."
   ]
  }
 ],
 "metadata": {
  "kernelspec": {
   "display_name": "Python 3",
   "language": "python",
   "name": "python3"
  },
  "language_info": {
   "codemirror_mode": {
    "name": "ipython",
    "version": 3
   },
   "file_extension": ".py",
   "mimetype": "text/x-python",
   "name": "python",
   "nbconvert_exporter": "python",
   "pygments_lexer": "ipython3",
   "version": "3.10.12"
  }
 },
 "nbformat": 4,
 "nbformat_minor": 5
}
