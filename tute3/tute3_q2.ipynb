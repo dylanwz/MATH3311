{
 "cells": [
  {
   "cell_type": "code",
   "execution_count": null,
   "id": "befbf9b8",
   "metadata": {},
   "outputs": [],
   "source": [
    "from laplace0 import laplace0\n",
    "from scipy.linalg import cholesky, norm, qr, eigvalsh, LinAlgError, svd, inv, lu, det, eig\n",
    "from scipy.sparse import eye\n",
    "import numpy as np\n",
    "from numpy import prod\n",
    "from matplotlib.pyplot import subplot, spy, figure, title, semilogy, grid\n",
    "from scipy.sparse import csr_matrix\n",
    "import matplotlib.pyplot as plt"
   ]
  },
  {
   "cell_type": "code",
   "execution_count": null,
   "id": "e9102393",
   "metadata": {},
   "outputs": [],
   "source": [
    "# (2)(a): What does the function do?\n",
    "\n",
    "# ???"
   ]
  },
  {
   "cell_type": "code",
   "execution_count": 4,
   "id": "0bf5651f",
   "metadata": {},
   "outputs": [
    {
     "name": "stdout",
     "output_type": "stream",
     "text": [
      "(40, 40)\n"
     ]
    }
   ],
   "source": [
    "# (2)(b): Create matrix A using the default arguments\n",
    "\n",
    "A = laplace0()\n",
    "print(A.shape)"
   ]
  },
  {
   "cell_type": "code",
   "execution_count": null,
   "id": "d38871cc",
   "metadata": {},
   "outputs": [
    {
     "name": "stdout",
     "output_type": "stream",
     "text": [
      "Shape of A: (40, 40)\n"
     ]
    },
    {
     "data": {
      "image/png": "[encoded data removed]",
      "text/plain": [
       "<Figure size 640x480 with 1 Axes>"
      ]
     },
     "metadata": {},
     "output_type": "display_data"
    },
    {
     "name": "stdout",
     "output_type": "stream",
     "text": [
      "Symmetric: True\n",
      "Min eigenvalue: 0.3885639508593018\n",
      "Positive definite: True\n",
      "Orthogonal: True\n",
      "Lower bandwidth: 8, Upper bandwidth: 8, Total: 17\n"
     ]
    }
   ],
   "source": [
    "# (2)(c):   Say as much as you can about A\n",
    "\n",
    "# (i):      Dimensions\n",
    "print(\"Shape of A:\", A.shape)\n",
    "\n",
    "# (ii):     Is A stored as a sparse matrix? Create a spy plot\n",
    "A_sparse = csr_matrix(A)\n",
    "plt.spy(A_sparse, markersize=3)\n",
    "plt.title(\"Sparsity pattern of A\")\n",
    "plt.show()\n",
    "\n",
    "# (iii):    Is A symmetric?\n",
    "print(\"Symmetric:\", np.allclose(A, A.T, atol=1e-12))\n",
    "\n",
    "# (iv):     Is A positive definite?\n",
    "eigs = eigvalsh(A)\n",
    "print(\"Min eigenvalue:\", np.min(eigs))\n",
    "print(\"Positive definite:\", np.all(eigs > 0))\n",
    "\n",
    "# (v):      Is A orthogonal?\n",
    "Q, _ = np.linalg.qr(A)\n",
    "print(\"Orthogonal:\", np.allclose(Q.T @ Q, np.eye(Q.shape[1])))\n",
    "\n",
    "# (vi):     Is A banded?\n",
    "def get_bandwidth(M, tol=1e-12):\n",
    "    lower_bw = 0\n",
    "    upper_bw = 0\n",
    "    for i in range(M.shape[0]):\n",
    "        for j in range(M.shape[1]):\n",
    "            if abs(M[i, j]) > tol:\n",
    "                if j < i:\n",
    "                    lower_bw = max(lower_bw, i - j)\n",
    "                elif j > i:\n",
    "                    upper_bw = max(upper_bw, j - i)\n",
    "    return lower_bw, upper_bw, lower_bw + upper_bw + 1\n",
    "lbw, ubw, bw_total = get_bandwidth(A)\n",
    "print(f\"Lower bandwidth: {lbw}, Upper bandwidth: {ubw}, Total: {bw_total}\")\n",
    "\n",
    "# (vii):    Is A Toeplitz?\n",
    "def is_toeplitz(M):\n",
    "    return all(np.allclose(np.diag(M, k), M[0, k] * np.ones(M.shape[0] - abs(k))) for k in range(-M.shape[0]+1, M.shape[1]))\n",
    "print(\"Toeplitz:\", is_toeplitz(A))\n",
    "\n",
    "# (viii):   What are the eigenvalues and singular values? Plot them.\n",
    "eigvals = eigvalsh(A)\n",
    "plt.plot(eigvals, 'bo-', label='Eigenvalues')\n",
    "plt.title(\"Eigenvalues of A\")\n",
    "plt.grid(True)\n",
    "plt.legend()\n",
    "plt.show()\n",
    "\n",
    "svals = svd(A, compute_uv=False)\n",
    "plt.plot(svals, 'ro-', label='Singular values')\n",
    "plt.title(\"Singular values of A\")\n",
    "plt.grid(True)\n",
    "plt.legend()\n",
    "plt.show()\n",
    "\n",
    "# (ix):     What is the determinant?\n",
    "det_A = det(A)\n",
    "print(\"det(A) =\", det_A)\n",
    "\n",
    "# (x):      Does the inverse exist?\n",
    "A_inv = inv(A)\n",
    "plt.spy(A_inv, markersize=1)\n",
    "plt.title(\"Sparsity pattern of A⁻¹\")\n",
    "plt.show()\n",
    "\n",
    "# (xi):     Calculate LU, Cholesky, QR, Spectral and SVD factorisation\n",
    "# LU\n",
    "P, L, U = lu(A)\n",
    "# Cholesky\n",
    "R = cholesky(A)\n",
    "# QR\n",
    "Q, R_qr = qr(A)\n",
    "# Spectral (eigen decomposition)\n",
    "D, V = eig(A)\n",
    "# SVD\n",
    "U_svd, S, Vh = svd(A)"
   ]
  }
 ],
 "metadata": {
  "kernelspec": {
   "display_name": "Python 3",
   "language": "python",
   "name": "python3"
  },
  "language_info": {
   "codemirror_mode": {
    "name": "ipython",
    "version": 3
   },
   "file_extension": ".py",
   "mimetype": "text/x-python",
   "name": "python",
   "nbconvert_exporter": "python",
   "pygments_lexer": "ipython3",
   "version": "3.10.12"
  }
 },
 "nbformat": 4,
 "nbformat_minor": 5
}
