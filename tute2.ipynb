{
 "cells": [
  {
   "cell_type": "code",
   "execution_count": 1,
   "id": "7a2a29cf",
   "metadata": {},
   "outputs": [],
   "source": [
    "import numpy as np\n",
    "from scipy import linalg"
   ]
  },
  {
   "cell_type": "code",
   "execution_count": null,
   "id": "bd77a2a6",
   "metadata": {},
   "outputs": [
    {
     "name": "stdout",
     "output_type": "stream",
     "text": [
      "38, 17.776388834631177\n",
      "38.0, 17.776388834631177, 12.0\n"
     ]
    }
   ],
   "source": [
    "# Question (1): Calculating Norms\n",
    "\n",
    "x = np.array([-9, 5, 1, -4, 12, -7])\n",
    "\n",
    "print(f\"{linalg.norm(x, 1)}, {linalg.norm(x, 2)}, {linalg.norm(x, np.inf)}\")\n",
    "\n",
    "# (Explanation). As expected."
   ]
  },
  {
   "cell_type": "markdown",
   "id": "7a8a03ad",
   "metadata": {},
   "source": [
    "### Question (2): Tight Inequalities\n",
    "A tight inequality is one such that there exists some choice of variable for which the inequality holds as an equality.\n",
    "\n",
    "For each of the following,\n",
    "- $||x||_2 \\leq ||x||_1 \\leq \\sqrt{n} ||x||_2$,\n",
    "- $||x||_\\infty \\leq ||x||_2 \\leq \\sqrt{n} ||x||_\\infty$,\n",
    "- $||x||_\\infty \\leq ||x||_1 \\leq n ||x||_\\infty$,\n",
    "\n",
    "the choice $x = [1, 0, \\ldots, 0]$ and $x = [1, 1, \\ldots, 1]$ work."
   ]
  },
  {
   "cell_type": "code",
   "execution_count": null,
   "id": "4d690757",
   "metadata": {},
   "outputs": [
    {
     "name": "stdout",
     "output_type": "stream",
     "text": [
      "||A||_1 = 21.0\n",
      "||A||_∞ = 17.0\n",
      "||A||_2 = 14.138407784747079\n"
     ]
    }
   ],
   "source": [
    "# Question (3)(a): Matrix Norms\n",
    "\n",
    "A = np.array([\n",
    "    [3, -2, 0, 5],\n",
    "    [1,  8, 7, 0],\n",
    "    [-9, 5, 1, 2],\n",
    "    [3, -2, 0, 5],\n",
    "    [3, -4, 0, 5]\n",
    "])\n",
    "\n",
    "print(\"||A||_1 =\", linalg.norm(A, 1))\n",
    "print(\"||A||_∞ =\", linalg.norm(A, np.inf))\n",
    "print(\"||A||_2 =\", linalg.norm(A, 2))\n",
    "\n",
    "# (Explanation). Use syntax as for column vectors.\n",
    "#   - We use `np.array` so that we can slice later"
   ]
  },
  {
   "cell_type": "code",
   "execution_count": null,
   "id": "853b6920",
   "metadata": {},
   "outputs": [
    {
     "name": "stdout",
     "output_type": "stream",
     "text": [
      "17.0, 12.965395613366699, 17.0\n",
      "|λ_max| = 12.495863904919725\n",
      "||B||_2 equals |λ_max|? False\n"
     ]
    }
   ],
   "source": [
    "# Question (3)(b): Matrix Calculations\n",
    "\n",
    "B = A[:4, :]\n",
    "\n",
    "print(f\"{linalg.norm(B, 1)}, {linalg.norm(B, 2)}, {linalg.norm(B, np.inf)}\")\n",
    "\n",
    "eigs = linalg.eigvals(B)\n",
    "print(\"|λ_max| =\", max(abs(eigs)))\n",
    "print(\"||B||_2 equals |λ_max|?\", linalg.norm(B, 2) == max(abs(eigs)))\n",
    "\n",
    "# (Explanation). Use syntax as shown."
   ]
  },
  {
   "cell_type": "markdown",
   "id": "784de52a",
   "metadata": {},
   "source": [
    "### Question (4): Condition Numbers\n",
    "\n",
    "The condition number of a matrix is defined as:\n",
    "- $\\kappa(A) = ||A|| \\cdot ||A^{-1}||$.\n",
    "\n",
    "This quantity can be thought of as how much a perturbation to $b$ affects the solution $x$, with higher values indicating a higher effect. "
   ]
  },
  {
   "cell_type": "code",
   "execution_count": 18,
   "id": "0395c4fe",
   "metadata": {},
   "outputs": [
    {
     "name": "stdout",
     "output_type": "stream",
     "text": [
      "cond_1(A) = 1.0\n",
      "cond_2(A) = 1.0\n",
      "cond_inf(A) = 1.0\n",
      "\n",
      "Hilbert matrix (n=5):\n",
      "cond_1 = 943656.0000063397\n",
      "cond_2 = 476607.2502457646\n",
      "cond_inf = 943656.0000063629\n",
      "\n",
      "Hilbert matrix (n=10):\n",
      "cond_1 = 35356843615851.7\n",
      "cond_2 = 16026019477413.043\n",
      "cond_inf = 35356847610517.09\n",
      "\n",
      "Hilbert matrix (n=15):\n",
      "cond_1 = 1.221413576195944e+18\n",
      "cond_2 = 4.380347090438315e+17\n",
      "cond_inf = 1.041726976490338e+18\n"
     ]
    }
   ],
   "source": [
    "# Question (4): Condition Numbers\n",
    "\n",
    "# (a) A = αI\n",
    "a = 3.0\n",
    "I = np.identity(4)\n",
    "A = a * I\n",
    "print(\"cond_1(A) =\", linalg.norm(A, 1) * linalg.norm(linalg.inv(A), 1))\n",
    "print(\"cond_2(A) =\", linalg.norm(A, 2) * linalg.norm(linalg.inv(A), 2))\n",
    "print(\"cond_inf(A) =\", linalg.norm(A, np.inf) * linalg.norm(linalg.inv(A), np.inf))\n",
    "\n",
    "# (b) Hilbert matrices (n = 5, 10, 15)\n",
    "for n in [5, 10, 15]:\n",
    "    H = linalg.hilbert(n)\n",
    "    print(f\"\\nHilbert matrix (n={n}):\")\n",
    "    print(\"cond_1 =\", linalg.norm(H, 1) * linalg.norm(linalg.inv(H), 1))\n",
    "    print(\"cond_2 =\", linalg.norm(H, 2) * linalg.norm(linalg.inv(H), 2))\n",
    "    print(\"cond_inf =\", linalg.norm(H, np.inf) * linalg.norm(linalg.inv(H), np.inf))"
   ]
  },
  {
   "cell_type": "code",
   "execution_count": null,
   "id": "f80b1e8a",
   "metadata": {},
   "outputs": [
    {
     "name": "stdout",
     "output_type": "stream",
     "text": [
      "Case i: 3.0\n",
      "Case ii: 2.0\n",
      "Case iii: -4.0\n",
      "Case i: 0.046799999999999974\n",
      "Case ii: 0.6393548387096775\n",
      "Case iii: 100999.89900010117\n"
     ]
    }
   ],
   "source": [
    "# Question (5): Significant Figures and Relative Error\n",
    "\n",
    "def sig_figs(kappa, b_digits):\n",
    "    return np.floor(b_digits - np.log10(kappa))\n",
    "\n",
    "def rel_err_needed(kappa, desired_digits):\n",
    "    return 10 ** (-(desired_digits - np.log10(kappa)))\n",
    "\n",
    "# (a)\n",
    "print(\"Case i:\", sig_figs(1.2e1 * 3.9e3, 8))\n",
    "print(\"Case ii:\", sig_figs(198.2 / 0.00031, 8))  # cond ≈ max_eig / min_eig\n",
    "print(\"Case iii:\", sig_figs(1 / 9.9010e-12, 8))\n",
    "\n",
    "# (b) Required error in b to get 6-digit solution\n",
    "print(\"Case i:\", rel_err_needed(1.2e1 * 3.9e3, 6))\n",
    "print(\"Case ii:\", rel_err_needed(198.2 / 0.00031, 6))\n",
    "print(\"Case iii:\", rel_err_needed(1 / 9.9010e-12, 6))\n",
    "\n",
    "# (Explanation). For Ax = b,\n",
    "#   - relative error of x <= condition number * relative error of b\n",
    "#   - a solution has n significant figures if its relative error is less than 10^{-n}\n",
    "#       - if it is greater, say n=3 and the relative error = 10^{-2} then the last digit is 'uncertain'\n",
    "#   - re-arranging gives relative error in b <= 10^{-n}/condition number"
   ]
  },
  {
   "cell_type": "code",
   "execution_count": null,
   "id": "199f7117",
   "metadata": {},
   "outputs": [],
   "source": [
    "# Question (6): Symmetry Checker\n",
    "\n",
    "from numpy import maximum, any, finfo, float32, float64, ndarray\n",
    "\n",
    "def symchk(A, tol=None):\n",
    "    A = A.astype(float)\n",
    "    if A.shape[0] != A.shape[1]: # not square\n",
    "        return False\n",
    "    if tol is None:\n",
    "        # heuristic: 10 operations per n^2 entries chances to accumulate error\n",
    "        tol = 10 * A.shape[0]**2 * finfo(A.dtype).eps\n",
    "    if tol < 0:\n",
    "        raise ValueError(\"Tolerance must be non-negative\")\n",
    "    diff = abs(A - A.T)\n",
    "    bound = tol * maximum(abs(A), abs(A.T)) # scale tolerance with highest value in either matrix\n",
    "    return not any(diff > bound)"
   ]
  },
  {
   "cell_type": "code",
   "execution_count": 25,
   "id": "d04b06d0",
   "metadata": {},
   "outputs": [
    {
     "name": "stdout",
     "output_type": "stream",
     "text": [
      "A symmetric? True\n",
      "B symmetric? False\n",
      "C symmetric? False\n"
     ]
    }
   ],
   "source": [
    "from numpy import array\n",
    "from numpy.random import randn\n",
    "\n",
    "A = array([[1, 2], [2, 1]])\n",
    "B = randn(3, 3)\n",
    "C = randn(3, 4)\n",
    "\n",
    "print(\"A symmetric?\", symchk(A))\n",
    "print(\"B symmetric?\", symchk(B))\n",
    "print(\"C symmetric?\", symchk(C))  # Not square\n"
   ]
  }
 ],
 "metadata": {
  "kernelspec": {
   "display_name": "Python 3",
   "language": "python",
   "name": "python3"
  },
  "language_info": {
   "codemirror_mode": {
    "name": "ipython",
    "version": 3
   },
   "file_extension": ".py",
   "mimetype": "text/x-python",
   "name": "python",
   "nbconvert_exporter": "python",
   "pygments_lexer": "ipython3",
   "version": "3.10.12"
  }
 },
 "nbformat": 4,
 "nbformat_minor": 5
}
