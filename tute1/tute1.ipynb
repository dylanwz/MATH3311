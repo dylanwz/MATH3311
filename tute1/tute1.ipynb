{
 "cells": [
  {
   "cell_type": "code",
   "execution_count": 27,
   "id": "548f2a4e",
   "metadata": {},
   "outputs": [],
   "source": [
    "import sys\n",
    "import numpy as np"
   ]
  },
  {
   "cell_type": "markdown",
   "id": "ef56299b",
   "metadata": {},
   "source": [
    "## Question 1\n",
    "### Basic Python arithmetic"
   ]
  },
  {
   "cell_type": "code",
   "execution_count": 12,
   "id": "ce24e673",
   "metadata": {},
   "outputs": [
    {
     "name": "stdout",
     "output_type": "stream",
     "text": [
      "-16, -16\n"
     ]
    }
   ],
   "source": [
    "# Part (A): Binary vs. Unary Operator\n",
    "print(f\"{-4**2}, {0 - 4**2}\")\n",
    "\n",
    "# (Explanation).\n",
    "#   - Binary operators (i.e. exponentiation) have higher priority than unary operators (i.e. -x)\n",
    "#       - so -4^2 gets interpreted as -(4^2).\n",
    "#   - This means both become equivalent expressions."
   ]
  },
  {
   "cell_type": "code",
   "execution_count": 16,
   "id": "c5583bf8",
   "metadata": {},
   "outputs": [
    {
     "name": "stdout",
     "output_type": "stream",
     "text": [
      "[[1 2]\n",
      " [3 4]], \n",
      "\n",
      " [[-1 -2]\n",
      " [-3 -4]], \n",
      "\n",
      " [[-1 -2]\n",
      " [-3 -4]]\n"
     ]
    }
   ],
   "source": [
    "# Part (B): Changing Sign\n",
    "A = np.array([[1, 2], [3, 4]])\n",
    "print(f\"{A}, \\n\\n {-1 * A}, \\n\\n {-A}\")\n",
    "\n",
    "# (Explanation).\n",
    "#   - In -1 * A, the unary operator is prioritised so it multiplies each element of A by -1\n",
    "#       - this can be slow if A is large.\n",
    "#   - On the other hand, -A just changes the sign of each element."
   ]
  },
  {
   "cell_type": "code",
   "execution_count": 17,
   "id": "40bc9ed2",
   "metadata": {},
   "outputs": [
    {
     "name": "stdout",
     "output_type": "stream",
     "text": [
      "0.3333333333333333, 2.5\n"
     ]
    }
   ],
   "source": [
    "# Part (C): Order of Evaluation\n",
    "a, R, r = 2, 4, 2\n",
    "print(f\"{a/(R+r)}, {a/R+r}\")\n",
    "\n",
    "# (Explanation).\n",
    "#   - LHS: using PEMDAS.\n",
    "#   - RHS: just operating left-to-right."
   ]
  },
  {
   "cell_type": "code",
   "execution_count": 20,
   "id": "2f930060",
   "metadata": {},
   "outputs": [
    {
     "name": "stdout",
     "output_type": "stream",
     "text": [
      "2.7755575615628914e-17\n",
      "6.0, 5.0\n"
     ]
    }
   ],
   "source": [
    "# Part (D),(E): Rounding Error, Amplification of Rounding Error\n",
    "print(0.75*0.2 - 0.15)\n",
    "print(f\"{np.floor(6/1)}, {np.floor(0.6/0.1)}\")\n",
    "\n",
    "# (Explanation).\n",
    "#   - Should be 0, but is a really small number\n",
    "#   - This occurs because many numbers cannot be represented exactly in binary, leading to tiny inaccuracies \n",
    "#       - this happens when the decimal terminates in base-10 but contains primes other than 2 in the denominator\n",
    "#       - because we need scalar multiples of negative powers of 2, e.g. 3/8 = 3/(2*2*2) but not 1/10 = 1/(2*5)"
   ]
  },
  {
   "cell_type": "code",
   "execution_count": null,
   "id": "5e825f14",
   "metadata": {},
   "outputs": [
    {
     "name": "stdout",
     "output_type": "stream",
     "text": [
      "1.4210854715202004e-14, 1e-14, 0.0, 1e-15\n"
     ]
    }
   ],
   "source": [
    "# Part (F),(G): Catastrophic Cancellation\n",
    "x, h1, h2 = 100, 1e-14, 1e-15\n",
    "print(f\"{x+h1-x}, {x-x+h1}, {x+h2-x}, {x-x+h2}\")\n",
    "\n",
    "# (Explanation). \n",
    "#   - x+h1 and x+h2 cause catastrophic cancellation because they're nearly equal\n",
    "#       - so the error is exacerbated and the original h1 is lost.\n",
    "#   - for x+h2-x, h2 is smaller than |x|*ε so x + h2 is stored as x and h2 is recoverable\n",
    "#       - to see this, observe 1 + ε > 1 => x + xε > x."
   ]
  },
  {
   "cell_type": "code",
   "execution_count": 25,
   "id": "3e3db106",
   "metadata": {},
   "outputs": [
    {
     "name": "stdout",
     "output_type": "stream",
     "text": [
      "2.220446049250313e-16\n",
      "2.2250738585072014e-308\n",
      "1.7976931348623157e+308\n",
      "True\n",
      "False\n"
     ]
    }
   ],
   "source": [
    "# Part (H),(I): Key Floating Point Parameters, Relative Machine Precision/Logicals\n",
    "print(np.finfo(float).eps)      # ≈ 2.22e-16\n",
    "print(np.finfo(float).tiny)     # Smallest positive normalized float ≈ 2.23e-308\n",
    "print(np.finfo(float).max)      # Largest finite float ≈ 1.797e+308\n",
    "\n",
    "eps = np.finfo(float).eps\n",
    "print(1 + eps > 1)      # True      (as defined)\n",
    "print(1 + eps/2 > 1)    # False     (as defined)"
   ]
  },
  {
   "cell_type": "markdown",
   "id": "566862cc",
   "metadata": {},
   "source": [
    "## Questions 2-8\n",
    "### Applications"
   ]
  },
  {
   "cell_type": "code",
   "execution_count": null,
   "id": "145ae6c4",
   "metadata": {},
   "outputs": [
    {
     "name": "stdout",
     "output_type": "stream",
     "text": [
      "False\n",
      "1.3642420526593924e-12\n",
      "Single precision: 3020.293816108053\n",
      "Double precision: 3020.2932277767914\n"
     ]
    }
   ],
   "source": [
    "# Question (2): PI, Powers, Log, Exp and Equality\n",
    "\n",
    "# (a) Solve π⁷ = eˣ => x = log(π⁷) = 7 * log(π)\n",
    "x = 7 * np.log(np.pi)\n",
    "\n",
    "# (b) Compute both sides\n",
    "lhs = np.pi**7\n",
    "rhs = np.exp(x)\n",
    "\n",
    "# (c) Test equality\n",
    "#   - returns False because of floating point rounding\n",
    "#   - the error in storing x on a computer is roughly |x|ε\n",
    "print(lhs == rhs)\n",
    "\n",
    "# (d) Absolute error\n",
    "print(abs(lhs - rhs))\n",
    "\n",
    "# (e) Estimate rounding error for π⁷\n",
    "lhs_single = np.float32(np.pi)**7\n",
    "lhs_double = np.float64(np.pi)**7\n",
    "print(\"Single precision:\", lhs_single)\n",
    "print(\"Double precision:\", lhs_double)\n"
   ]
  },
  {
   "cell_type": "markdown",
   "id": "967d1efb",
   "metadata": {},
   "source": [
    "```python\n",
    "# Question (3): IEEE Floating Point Extensions; Inf and NaN\n",
    "\n",
    "# (a) Operations that lead to inf or nan\n",
    "print(1/0)          # ➜ inf\n",
    "print(-1/0)         # ➜ -inf\n",
    "print(np.log(0))    # ➜ -inf\n",
    "print(np.log(-1))   # ➜ nan\n",
    "\n",
    "# (b) Working with zero and log\n",
    "z = np.float64(0)\n",
    "print(1/z)          # ➜ inf\n",
    "print(-1/z)         # ➜ -inf\n",
    "print(np.log(z))    # ➜ -inf\n",
    "\n",
    "# (c) NaN-generating expressions\n",
    "print(0/0)              # ➜ nan\n",
    "print(z/z)              # ➜ nan\n",
    "print(np.inf - np.inf)  # ➜ nan\n",
    "print(0 * np.inf)       # ➜ nan\n",
    "print(0 * np.nan)       # ➜ nan\n",
    "print(np.exp(-np.inf))  # ➜ 0.0\n",
    "\n",
    "# (Explanation). TL;DR:\n",
    "#   - NaN:  math error or undefined\n",
    "#   - Inf:  explosions or 'limits', e.g. 1/0 but not 0/0\n",
    "```"
   ]
  },
  {
   "cell_type": "code",
   "execution_count": null,
   "id": "11a33f41",
   "metadata": {},
   "outputs": [
    {
     "name": "stdout",
     "output_type": "stream",
     "text": [
      "[ 0.00000000e+00  1.22464680e-16 -2.44929360e-16  3.67394040e-16\n",
      " -4.89858720e-16  6.12323400e-16 -7.34788079e-16  8.57252759e-16\n",
      " -9.79717439e-16  1.10218212e-15]\n"
     ]
    }
   ],
   "source": [
    "# Question (4): Multiples of π\n",
    "\n",
    "# (a) Mathematically, sin(πk) = 0 for any integer k\n",
    "# (b) Numerical evaluation\n",
    "k = np.arange(0, 101)\n",
    "f_k = np.sin(np.pi * k)\n",
    "\n",
    "# Print a few to show if error is introduced\n",
    "print(f_k[:10])     # should be very close to 0\n",
    "\n",
    "# (Explanation).\n",
    "#   - the errors occur because π has a storing error "
   ]
  },
  {
   "cell_type": "code",
   "execution_count": null,
   "id": "be2e0565",
   "metadata": {},
   "outputs": [
    {
     "name": "stdout",
     "output_type": "stream",
     "text": [
      "Max t for exp(t): 709.782712893384\n",
      "Max t for exp(-t) > 0: 708.3964185322641\n",
      "Max x for exp(x^2): 26.641747557046326\n",
      "Max x for exp(-x^2) > 0: 26.615717509251258\n"
     ]
    }
   ],
   "source": [
    "# Question (5): Overflow and Underflow\n",
    "\n",
    "# (a) Max t s.t. exp(t) is finite\n",
    "max_log = np.log(np.finfo(float).max)\n",
    "print(\"Max t for exp(t):\", max_log)\n",
    "\n",
    "# (b) Max t s.t. exp(-t) > 0: always true for all real t, but t -> inf leads to underflow\n",
    "min_log = -np.log(np.finfo(float).tiny)\n",
    "print(\"Max t for exp(-t) > 0:\", min_log)\n",
    "\n",
    "# (Explanation).\n",
    "#   - the max_log will instantly overflow to infinity for any t greater.\n",
    "#   - the min_log will experience gradual underflow because more non-normalised values smaller than realmin exist\n",
    "#       - by forcing an implicit leading 1, we burn exponents forcing that 1 to the front."
   ]
  },
  {
   "cell_type": "code",
   "execution_count": null,
   "id": "a9f04bf8",
   "metadata": {},
   "outputs": [
    {
     "name": "stdout",
     "output_type": "stream",
     "text": [
      "Using approx exp(-1): [ 0.632121  0.367879  0.264242  0.207274  0.170904  0.14548   0.12712\n",
      "  0.11016   0.11872  -0.06848   1.6848  ]\n",
      "Using exp(-1): [0.63212056 0.36787944 0.26424112 0.20727665 0.17089341 0.14553294\n",
      " 0.12680236 0.1123835  0.10093197 0.09161229 0.08387707]\n"
     ]
    }
   ],
   "source": [
    "# Question (6): Effect of Initial Condition on Recurrence\n",
    "\n",
    "# (a) Use approximate value of e^(-1)\n",
    "J_approx = np.empty(11)\n",
    "J_approx[0] = 1 - 0.367879\n",
    "for n in range(1, 11):\n",
    "    J_approx[n] = 1 - n * J_approx[n-1]\n",
    "\n",
    "print(\"Using approx exp(-1):\", J_approx)\n",
    "\n",
    "# (b) Use accurate exp(-1)\n",
    "J_exact = np.empty(11)\n",
    "J_exact[0] = 1 - np.exp(-1)\n",
    "for n in range(1, 11):\n",
    "    J_exact[n] = 1 - n * J_exact[n-1]\n",
    "\n",
    "print(\"Using exp(-1):\", J_exact)\n",
    "\n",
    "# (Explanation).\n",
    "# - The numbers appear unstable\n",
    "#   - this is because the factor to the next term scales in n factorial\n",
    "#   - so  even small inaccuracies will explode."
   ]
  },
  {
   "cell_type": "markdown",
   "id": "4ea0a700",
   "metadata": {},
   "source": [
    "### Question (8): Time Estimation\n",
    "Just use the formula: speed (flops/sec) = clock (cycles/sec or Hz) $\\times$ cores $\\times$ flops/cycle.\n",
    "\n",
    "Note that the clock speed and flops/cycle are CPU-dependent."
   ]
  },
  {
   "cell_type": "markdown",
   "id": "41d9e4b0",
   "metadata": {},
   "source": [
    "### Question (9): Storage Questions\n",
    "It's simple maths, just remember\n",
    "\n",
    "- $x$-$n\\text{B}$ = $x \\times 2^{10n}$ bytes,\n",
    "\n",
    "where $x$ is a number and $n$ is an order of magnitude corresponding to $1000^n$.\n",
    "\n",
    "For example, 4MB = $4 \\times 2^{2 \\cdot 10}$ bytes."
   ]
  }
 ],
 "metadata": {
  "kernelspec": {
   "display_name": "Python 3",
   "language": "python",
   "name": "python3"
  },
  "language_info": {
   "codemirror_mode": {
    "name": "ipython",
    "version": 3
   },
   "file_extension": ".py",
   "mimetype": "text/x-python",
   "name": "python",
   "nbconvert_exporter": "python",
   "pygments_lexer": "ipython3",
   "version": "3.10.12"
  }
 },
 "nbformat": 4,
 "nbformat_minor": 5
}
