{
 "cells": [
  {
   "cell_type": "code",
   "execution_count": null,
   "id": "bb7faa72",
   "metadata": {},
   "outputs": [],
   "source": [
    "import numpy as np\n",
    "from scipy.linalg import solve"
   ]
  },
  {
   "cell_type": "code",
   "execution_count": 11,
   "id": "4a0ae3ca",
   "metadata": {},
   "outputs": [
    {
     "name": "stdout",
     "output_type": "stream",
     "text": [
      "sumA: 13.509935844715358\n",
      "condA: 2.0778039513457235e+17\n",
      "comment1 = 'yes'\n",
      "detA: -7.584782657868772e-83\n",
      "comment2 = 'no'\n",
      "diag5Q: [-0.28867513 -0.77990597 -0.35925163  0.14627472 -0.40354541]\n",
      "veca: [   0.            0.86037863  -15.50499537   82.13272647 -130.58607689]\n"
     ]
    }
   ],
   "source": [
    "from numpy import pi, sin, exp\n",
    "from numpy.linalg import cond, det\n",
    "from scipy.linalg import norm, qr\n",
    "\n",
    "n = 11 \n",
    "A = np.zeros((n+1, n+1))\n",
    "for i in range(n+1):\n",
    "    for j in range(n+1):\n",
    "        if j == 0:\n",
    "            A[i,j] = 1\n",
    "        elif i == 0:\n",
    "            A[i,j] = 0\n",
    "        else:\n",
    "            A[i,j] = 1/(2*i+1)**j\n",
    "sumA = A.sum()\n",
    "print(f\"sumA: {sumA}\")\n",
    "\n",
    "condA = cond(A)\n",
    "print(f\"condA: {condA}\")\n",
    "\n",
    "print(\"comment1 = 'yes'\")\n",
    "\n",
    "detA = det(A)\n",
    "print(f\"detA: {detA}\")\n",
    "\n",
    "print(\"comment2 = 'no'\")\n",
    "\n",
    "Q,R = qr(A)\n",
    "diag5Q = np.diag(Q)[:5]\n",
    "print(f\"diag5Q: {diag5Q}\")\n",
    "\n",
    "x_pts = np.array([0, 1/3, 1/5, 1/7, 1/9])\n",
    "y_pts = sin(10*pi*x_pts)/(100*exp(x_pts))\n",
    "veca = solve(A[:5, :5], y_pts)\n",
    "print(f\"veca: {veca}\")\n"
   ]
  },
  {
   "cell_type": "code",
   "execution_count": 12,
   "id": "6ab87e55",
   "metadata": {},
   "outputs": [
    {
     "name": "stdout",
     "output_type": "stream",
     "text": [
      "invf2: 0.6884238065328873\n"
     ]
    }
   ],
   "source": [
    "from numpy import zeros, exp\n",
    "f = lambda x : (x-1)**4 + exp(x)\n",
    "g = lambda x : f(x) - 2\n",
    "g_prime = lambda x : 4*(x-1)**3 + exp(x)\n",
    "newton_step = lambda x : x - g(x)/g_prime(x)\n",
    "\n",
    "x0 = 3\n",
    "x1 = newton_step(x0)\n",
    "x2 = newton_step(x1)\n",
    "x3 = newton_step(x2)\n",
    "\n",
    "tol = 10**(-8)\n",
    "xn = x0\n",
    "xe = None \n",
    "while True:\n",
    "    xe = newton_step(xn)\n",
    "    if abs(xe - xn) < tol:\n",
    "        break\n",
    "    xn = xe\n",
    "invf2 = xe\n",
    "print(f\"invf2: {invf2}\")"
   ]
  },
  {
   "cell_type": "code",
   "execution_count": 16,
   "id": "c8a075fd",
   "metadata": {},
   "outputs": [
    {
     "name": "stdout",
     "output_type": "stream",
     "text": [
      "trapf: 0.8810226297155423\n",
      "errtrap: 0.022671327398035235\n",
      "trap2dF: 0.33498855671317784\n"
     ]
    }
   ],
   "source": [
    "from numpy import ones, sqrt, pi, sin, linspace\n",
    "from scipy.special import gamma\n",
    "\n",
    "N = 9\n",
    "h = 1/9\n",
    "x = linspace(0, 1, N+1)\n",
    "w = 2*np.ones(N+1)\n",
    "w[0] = w[-1] = 1\n",
    "f = (2-2*x**2)**1.5 * sqrt(x)\n",
    "trapf = h/2 * w.T @ f\n",
    "print(f\"trapf: {trapf}\")\n",
    "errtrap = abs(trapf - (16/(15*pi**0.5)) * (gamma(0.75))**2)\n",
    "print(f\"errtrap: {errtrap}\")\n",
    "\n",
    "y = linspace(0,1, N+1)\n",
    "F = np.zeros((N+1, N+1))\n",
    "for i in range(N+1):\n",
    "    for j in range(N+1):\n",
    "        F[i,j] = sin(x[i]*y[j]) * sqrt(x[i]+2*y[j])\n",
    "\n",
    "trap2dF = h**2/4 * w @ F @ w.T\n",
    "print(f\"trap2dF: {trap2dF}\")\n"
   ]
  },
  {
   "cell_type": "code",
   "execution_count": 24,
   "id": "4f708ea0",
   "metadata": {},
   "outputs": [
    {
     "name": "stdout",
     "output_type": "stream",
     "text": [
      "yspteval: [89.11551718 89.7353398  56.78286361 41.37721576 62.41078334 62.02855087\n",
      " 47.29204316 42.80659648 56.36219093]\n",
      "yLSteval: [83.44709974 85.27932684 59.24535957 47.4801628  63.76370156 66.27466822\n",
      " 42.08570637 35.33575429 65.25214159]\n",
      "[17.50437269 14.50796724 -7.93537269 -6.88896724 -3.364     ]\n",
      "ydfteval: [94.80744577729573, 53.98808519494918, 42.043406834250746, 63.249650061961134, 60.52863068999574, 49.50790369246462, 39.145054674855146, 63.88337010733187, 92.44200996716202]\n"
     ]
    }
   ],
   "source": [
    "from numpy import ones, linspace, loadtxt, pi, exp, cos, sin\n",
    "from scipy.interpolate import CubicSpline\n",
    "from scipy.fft import fft\n",
    "from scipy.linalg import lstsq\n",
    "\n",
    "tdata = [1,2,3,4,5,6,7,8,9,10]\n",
    "ydata = [77.64,94.53,68.17,39.68,56.99,65.23,50.8,43.29,48.66,93.17]\n",
    "\n",
    "teval = np.arange(1,10) + 0.3\n",
    "\n",
    "spl = CubicSpline(tdata, ydata)\n",
    "yspteval = spl(teval)\n",
    "print(f\"yspteval: {yspteval}\")\n",
    "\n",
    "poly = lambda t : np.array([1, t, exp(t), cos(pi*t/2)])\n",
    "M = [poly(t) for t in tdata]\n",
    "xLS = lstsq(M, ydata)[0]\n",
    "\n",
    "yLSteval = np.array([poly(t) for t in teval]) @ xLS\n",
    "print(f\"yLSteval: {yLSteval}\")\n",
    "\n",
    "m = 10\n",
    "w = fft(ydata)\n",
    "a0 = w[0].real/m\n",
    "\n",
    "a = np.zeros(5)\n",
    "a[:4] = 2/m * w.real[1:5]\n",
    "a[4] = w[5].real/m\n",
    "print(a)\n",
    "b = [3.9119, 1.7992, -0.4331, -4.9655, 0]\n",
    "\n",
    "ydfteval = [a0 + np.sum([a[i]*cos(2*pi*(i+1)*t/m) + b[i]*sin(2*pi*(i+1)*t/m) for i in range(5)]) for t in teval]\n",
    "print(f\"ydfteval: {ydfteval}\")"
   ]
  },
  {
   "cell_type": "code",
   "execution_count": 29,
   "id": "15adbee4",
   "metadata": {},
   "outputs": [
    {
     "name": "stdout",
     "output_type": "stream",
     "text": [
      "0.45809368280461393\n",
      "Uapprox: [0.04368579 0.12341851 0.2678357  0.52877524]\n",
      "E: [6.063649591098175e-05, 1.5177439757541045e-05]\n"
     ]
    }
   ],
   "source": [
    "from numpy import diag, exp, ones, zeros, linspace, inf\n",
    "from numpy.linalg import norm\n",
    "\n",
    "def do(N=5):\n",
    "    h = 1/N\n",
    "    x = linspace(0,1,N+1)\n",
    "    A = diag([-2] * (N-1)) + diag(ones(N-2), 1) + diag(ones(N-2), -1)\n",
    "    B = diag(exp(-3*x[1:-1])) @ (diag(ones(N-2), 1) - diag(ones(N-2), -1))\n",
    "    sumB = B.sum()\n",
    "    C = diag(ones(N-1))\n",
    "    R = zeros(N-1)\n",
    "    R[-1] = 1/h**2 - 3/(2*h) * exp(-3*(N-1)*h)\n",
    "    Uapprox = solve(-1/h**2 * A + 3/(2*h) * B + 9*C, R)\n",
    "    return Uapprox, A, sumB, C\n",
    "\n",
    "Uapprox, A, sumB, C = do()\n",
    "print(sumB)\n",
    "print(f\"Uapprox: {Uapprox}\")\n",
    "\n",
    "u = lambda x : (1-exp(3*x))/(1-exp(3))\n",
    "u40 = u(linspace(0,1,41)[1:-1])\n",
    "u80 = u(linspace(0,1,81)[1:-1])\n",
    "U40 = do(40)[0]\n",
    "U80 = do(80)[0]\n",
    "E1 = norm(U40 - u40, np.inf)\n",
    "E2 = norm(U80 - u80, np.inf)\n",
    "E = [E1, E2]\n",
    "print(f\"E: {E}\")\n"
   ]
  }
 ],
 "metadata": {
  "kernelspec": {
   "display_name": "Python 3",
   "language": "python",
   "name": "python3"
  },
  "language_info": {
   "codemirror_mode": {
    "name": "ipython",
    "version": 3
   },
   "file_extension": ".py",
   "mimetype": "text/x-python",
   "name": "python",
   "nbconvert_exporter": "python",
   "pygments_lexer": "ipython3",
   "version": "3.11.5"
  }
 },
 "nbformat": 4,
 "nbformat_minor": 5
}
