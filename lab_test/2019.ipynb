{
 "cells": [
  {
   "cell_type": "code",
   "execution_count": 7,
   "id": "b6919108",
   "metadata": {},
   "outputs": [
    {
     "name": "stdout",
     "output_type": "stream",
     "text": [
      "A: [[-2.  0.  1.  0.  0.  0.  0.  0.  0.  0.]\n",
      " [ 0. -2.  0.  1.  0.  0.  0.  0.  0.  0.]\n",
      " [ 0.  0. -2.  0.  1.  0.  0.  0.  0.  0.]\n",
      " [ 0.  0.  0. -2.  0.  1.  0.  0.  0.  0.]\n",
      " [ 3.  0.  0.  0. -2.  0.  1.  0.  0.  0.]\n",
      " [ 0.  3.  0.  0.  0. -2.  0.  1.  0.  0.]\n",
      " [ 0.  0.  3.  0.  0.  0. -2.  0.  1.  0.]\n",
      " [ 0.  0.  0.  3.  0.  0.  0. -2.  0.  1.]\n",
      " [ 0.  0.  0.  0.  3.  0.  0.  0. -2.  0.]\n",
      " [ 0.  0.  0.  0.  0.  3.  0.  0.  0. -2.]]\n",
      "xs: [ 57.  49. 134. 116. 284. 246. 409. 355. 424. 368.]\n",
      "r1norm: 2.1316282072803006e-13\n"
     ]
    }
   ],
   "source": [
    "import numpy as np\n",
    "\n",
    "n = 10\n",
    "A = np.diag([-2] * 10) + np.diag(3 * np.ones(n-4), -4) + np.diag(np.ones(n-2), 2)\n",
    "print(f\"A: {A}\")\n",
    "\n",
    "from scipy.linalg import lu, lu_factor, lu_solve\n",
    "_lu, piv = lu_factor(A)\n",
    "_, L, U = lu(A)\n",
    "\n",
    "b = np.array([2*n - 2*i for i in range(0, n)])\n",
    "\n",
    "xs = lu_solve((_lu, piv), b)\n",
    "print(f\"xs: {xs}\")\n",
    "\n",
    "r = A @ xs - b\n",
    "\n",
    "from scipy.linalg import norm\n",
    "r1norm = norm(r, ord=1)\n",
    "print(f\"r1norm: {r1norm}\")"
   ]
  },
  {
   "cell_type": "code",
   "execution_count": 9,
   "id": "e19e5988",
   "metadata": {},
   "outputs": [
    {
     "name": "stdout",
     "output_type": "stream",
     "text": [
      "x2: 1.958914133623982\n",
      "xe: 1.958914133623982\n"
     ]
    }
   ],
   "source": [
    "def f(x):\n",
    "    return (x-1)**3 + np.exp(x)\n",
    "def g(x):\n",
    "    return f(x) - 2\n",
    "def secant_step(xn, xn1):\n",
    "    return xn - (g(xn) * (xn - xn1)/(g(xn) - g(xn1)))\n",
    "\n",
    "x0 = 3\n",
    "x1 = 2.5\n",
    "x2 = secant_step(x1, x0)\n",
    "print(f\"x2: {x2}\")\n",
    "\n",
    "tol = 2**(-52)\n",
    "xn = x1\n",
    "xn1 = x0\n",
    "xe = xn\n",
    "while True:\n",
    "    xe = secant_step(xn, xn1)\n",
    "    if (xe - xn) < tol:\n",
    "        break\n",
    "    xn1 = xn\n",
    "    xn = xe\n",
    "\n",
    "print(f\"xe: {xe}\")"
   ]
  },
  {
   "cell_type": "code",
   "execution_count": 19,
   "id": "a5796a58",
   "metadata": {},
   "outputs": [
    {
     "name": "stdout",
     "output_type": "stream",
     "text": [
      "lserr: 4.1378723920282676e-11\n"
     ]
    }
   ],
   "source": [
    "def true_fn(x):\n",
    "    return 1 + 2*x + 3*x**2 + 4*x**3 + 5*x**4\n",
    "\n",
    "x = np.linspace(1, 10, 10)\n",
    "y = true_fn(x)\n",
    "\n",
    "from scipy.linalg import lstsq\n",
    "M = np.column_stack((\n",
    "    np.ones(len(x)),\n",
    "    x,\n",
    "    x**2,\n",
    "    x**3,\n",
    "    x**4\n",
    "))\n",
    "z,_,_,_ = lstsq(M, y)\n",
    "preds = M @ z\n",
    "lserr = norm(preds - y, ord=2)\n",
    "print(f\"lserr: {lserr}\")"
   ]
  },
  {
   "cell_type": "code",
   "execution_count": 25,
   "id": "646a3981",
   "metadata": {},
   "outputs": [
    {
     "name": "stdout",
     "output_type": "stream",
     "text": [
      "IQ: (1.2732395447351628, 1.4210854715202004e-14)\n",
      "IT: 1.2719633925496514\n",
      "No, the discontinuity at x=1 is not an issue because we do not differentiate anything\n"
     ]
    }
   ],
   "source": [
    "f = lambda x : np.abs(np.cos(np.pi * x))\n",
    "\n",
    "from scipy.integrate import quad\n",
    "IQ = quad(f, 0, 2)\n",
    "print(f\"IQ: {IQ}\")\n",
    "\n",
    "NI = 1001\n",
    "xI = np.linspace(0, 2, NI)\n",
    "hI = 2/NI\n",
    "\n",
    "wI = np.array([2] * NI)\n",
    "wI[0] = wI[-1] = 1\n",
    "fI = f(xI)\n",
    "\n",
    "IT = hI/2 * (wI.T @ fI)\n",
    "print(f\"IT: {IT}\")\n",
    "\n",
    "print(f\"No, the discontinuity at x=1 is not an issue because we do not differentiate anything\")"
   ]
  },
  {
   "cell_type": "code",
   "execution_count": null,
   "id": "3efc3584",
   "metadata": {},
   "outputs": [
    {
     "name": "stdout",
     "output_type": "stream",
     "text": [
      "(99,)\n",
      "Uerr: 0.13533966963582736\n"
     ]
    }
   ],
   "source": [
    "def f(x):\n",
    "    return np.exp(x) * (x**2 + x**3)\n",
    "\n",
    "N = 100\n",
    "B = np.zeros((N-1, N-1))\n",
    "b = np.zeros(N-1)\n",
    "\n",
    "for n in range(1, N):\n",
    "    a_n = n**2 + n\n",
    "    b_n = 1 - n - 2*n**2\n",
    "    c_n = n**2\n",
    "\n",
    "    idx = n - 1\n",
    "    B[idx][idx] = b_n\n",
    "    if n > 1:\n",
    "        B[idx][idx-1] = a_n\n",
    "    if n < N-1:\n",
    "        B[idx][idx+1] = c_n\n",
    "    \n",
    "    b[idx] = f(n/N)\n",
    "    if n == N - 1:\n",
    "        b[idx] -= c_n * np.exp(1)\n",
    "\n",
    "from scipy.linalg import solve\n",
    "U = solve(B, b)\n",
    "print(U.shape)\n",
    "true_f = lambda x : x * np.exp(x)\n",
    "true_u = true_f(np.linspace(0, 1, N+1)[1:-1])\n",
    "\n",
    "# true_u = [n/N * np.exp(n/N) for n in range(1, N)]\n",
    "Uerr = norm(U - true_u, ord=2)\n",
    "print(f\"Uerr: {Uerr}\")\n"
   ]
  }
 ],
 "metadata": {
  "kernelspec": {
   "display_name": "Python 3",
   "language": "python",
   "name": "python3"
  },
  "language_info": {
   "codemirror_mode": {
    "name": "ipython",
    "version": 3
   },
   "file_extension": ".py",
   "mimetype": "text/x-python",
   "name": "python",
   "nbconvert_exporter": "python",
   "pygments_lexer": "ipython3",
   "version": "3.10.12"
  }
 },
 "nbformat": 4,
 "nbformat_minor": 5
}
