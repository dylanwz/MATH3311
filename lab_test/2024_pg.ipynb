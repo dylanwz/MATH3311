{
 "cells": [
  {
   "cell_type": "code",
   "execution_count": 2,
   "id": "587b877d",
   "metadata": {},
   "outputs": [],
   "source": [
    "import numpy as np\n",
    "import scipy.linalg as sp"
   ]
  },
  {
   "cell_type": "code",
   "execution_count": 3,
   "id": "dc4c4ef6",
   "metadata": {},
   "outputs": [
    {
     "name": "stdout",
     "output_type": "stream",
     "text": [
      "sumA: 27.224108678060873\n",
      "condA: 3.161309735587093e+17\n",
      "comment1: no\n",
      "detA: -1.2411566175315346e-80\n",
      "comment2: no\n",
      "SumsvA: 7.520671865894069\n",
      "veca: [  1.00798809   0.7310131  -16.13915809 -44.18283957 153.30979796\n",
      " -92.72680149]\n"
     ]
    }
   ],
   "source": [
    "from numpy import pi, cos\n",
    "from numpy.linalg import cond, det\n",
    "from scipy.linalg import norm, svd\n",
    "\n",
    "n = 12\n",
    "A = np.ones((n+1,n+1))\n",
    "for i in range(1, n+1):\n",
    "    for j in range(1, n+1):\n",
    "        A[i,j] = 1/((2*i)**j)\n",
    "sumA = A.sum()\n",
    "print(f\"sumA: {sumA}\")\n",
    "\n",
    "condA = cond(A, 2)\n",
    "print(f\"condA: {condA}\")\n",
    "\n",
    "comment1 = 'no'\n",
    "print(f\"comment1: {comment1}\")\n",
    "\n",
    "detA = det(A)\n",
    "print(f\"detA: {detA}\")\n",
    "\n",
    "comment2 = 'no' if abs(detA) < np.finfo(float).eps else 'yes'\n",
    "print(f\"comment2: {comment2}\")\n",
    "\n",
    "_, svA, _ = svd(A)\n",
    "SumsvA = svA.sum()\n",
    "print(f\"SumsvA: {SumsvA}\")\n",
    "\n",
    "\n",
    "V = A[:6, :6]\n",
    "xpts1 = np.array([1, 1/2, 1/4, 1/6, 1/8, 1/10])\n",
    "fx1 = lambda x : (x+1) * cos(2*pi*x)\n",
    "y1 = fx1(xpts1)\n",
    "veca = sp.solve(V, y1)\n",
    "print(f\"veca: {veca}\")"
   ]
  },
  {
   "cell_type": "code",
   "execution_count": 4,
   "id": "0f417336",
   "metadata": {},
   "outputs": [
    {
     "name": "stdout",
     "output_type": "stream",
     "text": [
      "x1: 1.9453422637809399, x2: 1.4832195389998697, x3: 1.1823751896755503\n",
      "xe: 1.0985808071939192\n",
      "f1f2: 1.0985808071939192\n"
     ]
    }
   ],
   "source": [
    "from numpy import zeros, exp\n",
    "from scipy.optimize import fsolve\n",
    "\n",
    "f2_1 = lambda x : (x-1)**4\n",
    "f2_2 = lambda x : 3 - exp(x)\n",
    "g2 = lambda x : f2_1(x) - f2_2(x)\n",
    "dg2 = lambda x : 4*(x-1)**3 + exp(x)\n",
    "newton_step = lambda x : x - g2(x)/dg2(x)\n",
    "\n",
    "x0 = 5/2\n",
    "x1 = newton_step(x0)\n",
    "x2 = newton_step(x1)\n",
    "x3 = newton_step(x2)\n",
    "print(f\"x1: {x1}, x2: {x2}, x3: {x3}\")\n",
    "\n",
    "tol = 1e-8\n",
    "xn = x0\n",
    "xe = None\n",
    "while True:\n",
    "    xe = newton_step(xn)\n",
    "    if (abs(xe - xn)) < tol:\n",
    "        break\n",
    "    xn = xe\n",
    "print(f\"xe: {xe}\")\n",
    "f1f2 = xe\n",
    "print(f\"f1f2: {f1f2}\")"
   ]
  },
  {
   "cell_type": "code",
   "execution_count": 5,
   "id": "84201cb2",
   "metadata": {},
   "outputs": [
    {
     "name": "stdout",
     "output_type": "stream",
     "text": [
      "simpf: 1.022971259493227\n",
      "errsimp: 0.0071072097854774086\n",
      "simp2dF: -0.09026541105629891\n"
     ]
    }
   ],
   "source": [
    "from numpy import ones, sqrt, pi, cos, exp, linspace\n",
    "from scipy.special import erf\n",
    "\n",
    "N = 10\n",
    "h = 1/N\n",
    "x = linspace(0, 1, N+1)\n",
    "w = np.ones(N+1)\n",
    "w[1::2] = 4\n",
    "w[2:-1:2] = 2\n",
    "f3 = lambda x : exp(x) * sqrt(1-x)\n",
    "f = f3(x)\n",
    "simpf = h/3 * w.T @ f\n",
    "print(f\"simpf: {simpf}\")\n",
    "\n",
    "true = sqrt(pi) * erf(1) * exp(1) / 2 - 1\n",
    "errsimp = abs(true - simpf)\n",
    "print(f\"errsimp: {errsimp}\")\n",
    "\n",
    "F3 = lambda x,y : cos(2*x + y) * sqrt(x*y)\n",
    "y = linspace(0,1,N+1)\n",
    "X,Y = np.meshgrid(x, y, indexing='ij')\n",
    "F = F3(X,Y)\n",
    "simp2dF = h**2/9 * w @ F @ w.T\n",
    "print(f\"simp2dF: {simp2dF}\")"
   ]
  },
  {
   "cell_type": "code",
   "execution_count": 6,
   "id": "36a8b159",
   "metadata": {},
   "outputs": [
    {
     "name": "stdout",
     "output_type": "stream",
     "text": [
      "yspteval: [63.64970753 95.07255849 63.35494151 82.43767548 90.52935657 65.97364824\n",
      " 62.98605048 49.04714984 35.14785016 30.4257492 ]\n",
      "xLS: [ 171.44743728   60.70423126   -3.34496404 -141.0944602     6.16713255]\n",
      "yLSteval: [105.55528355  86.53371981  74.85123919  74.61205131  81.93522856\n",
      "  77.60052832  60.61768555  47.81103018  38.76306718  15.73311762]\n",
      "b: [20.14594902  2.9660844   6.59141557  7.66351746]\n",
      "ydfteval: [103.45877763268166, 55.83837394245037, 87.25902437128327, 88.6883618241127, 66.29096666666666, 62.45676281947209, 51.17281054320565, 29.080759390882974, 59.35416280924467, 103.45877763268167]\n"
     ]
    }
   ],
   "source": [
    "from numpy import ones, linspace, loadtxt, pi, sqrt, cos, sin\n",
    "from scipy.interpolate import CubicSpline\n",
    "from scipy.fft import fft\n",
    "from scipy.linalg import lstsq\n",
    "\n",
    "tdata = [1,2,3,4,5,6,7,8,9]\n",
    "ydata = [94.88,79.48,61.95,99.67,72.34,66.05,56.64,41.51,31.08]\n",
    "\n",
    "teval = np.arange(10) + 0.5\n",
    "\n",
    "spl = CubicSpline(tdata, ydata)\n",
    "yspteval = spl(teval)\n",
    "print(f\"yspteval: {yspteval}\")\n",
    "\n",
    "poly = lambda t : np.array([1, t, t**2, sqrt(t), sin(pi*t/2)])\n",
    "\n",
    "A = [poly(t) for t in tdata]\n",
    "xLS = lstsq(A, ydata)[0]\n",
    "print(f\"xLS: {xLS}\")\n",
    "\n",
    "yLSteval = [poly(t) for t in teval] @ xLS\n",
    "print(f\"yLSteval: {yLSteval}\")\n",
    "\n",
    "m = 9\n",
    "w = fft(ydata)\n",
    "a0 = w[0].real/m\n",
    "\n",
    "b = -2/m * w.imag[1:5]\n",
    "print(f\"b: {b}\")\n",
    "\n",
    "a = [-2.3688, 9.9369, 16.6633, 3.5819]\n",
    "ydfteval = [a0 + np.sum([a[i] * cos(2*pi*(i+1)*t/m) + b[i] * sin(2*pi*(i+1)*t/m) for i in range(4)]) for t in teval]\n",
    "print(f\"ydfteval: {ydfteval}\")"
   ]
  },
  {
   "cell_type": "code",
   "execution_count": 7,
   "id": "175a86ae",
   "metadata": {},
   "outputs": [
    {
     "name": "stdout",
     "output_type": "stream",
     "text": [
      "-0.36940178896076037\n",
      "Uapprox: [0.71321487 0.47839554 0.28614985 0.12878524]\n",
      "E: [1.2536427039799847e-06, 3.135926793795818e-07]\n"
     ]
    }
   ],
   "source": [
    "def do(N=5):\n",
    "    h = 1/N\n",
    "    x = linspace(0, 1, N+1)\n",
    "    A = np.diag([-2] * (N-1)) + np.diag(np.ones(N-2), 1) + np.diag(np.ones(N-2), -1)\n",
    "    p = lambda x : exp(x - 1)\n",
    "    B = np.diag(p(x[1:-1])) @ (np.diag(np.ones(N-2), 1) - np.diag(np.ones(N-2), -1))\n",
    "    sumB = B.sum()\n",
    "    C = np.eye(N-1)\n",
    "    R = np.zeros(N-1)\n",
    "    R[0] = 1/h**2 - exp(h-1)/(2*h)\n",
    "    Uapprox = sp.solve(-1/h**2 * A - 1/(2*h) * B + C, R)\n",
    "    return Uapprox, A,sumB,C,R\n",
    "\n",
    "Uapprox,A,sumB,C,R = do()\n",
    "print(sumB)\n",
    "print(f\"Uapprox: {Uapprox}\")\n",
    "\n",
    "true = lambda x : (1-exp(1-x))/(1-exp(1))\n",
    "x40 = linspace(0,1,41)\n",
    "x80 = linspace(0,1,81)\n",
    "true40 = true(x40[1:-1])\n",
    "true80 = true(x80[1:-1])\n",
    "E1 = norm(do(40)[0] - true40, np.inf)\n",
    "E2 = norm(do(80)[0] - true80, np.inf)\n",
    "E = [E1, E2]\n",
    "print(f\"E: {E}\")\n"
   ]
  }
 ],
 "metadata": {
  "kernelspec": {
   "display_name": "Python 3",
   "language": "python",
   "name": "python3"
  },
  "language_info": {
   "codemirror_mode": {
    "name": "ipython",
    "version": 3
   },
   "file_extension": ".py",
   "mimetype": "text/x-python",
   "name": "python",
   "nbconvert_exporter": "python",
   "pygments_lexer": "ipython3",
   "version": "3.11.5"
  }
 },
 "nbformat": 4,
 "nbformat_minor": 5
}
