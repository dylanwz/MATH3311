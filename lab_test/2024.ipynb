{
 "cells": [
  {
   "cell_type": "markdown",
   "metadata": {},
   "source": [
    "### Question 1 Part A\n",
    "Topics 2-3, (Size, Equality, Norms and Sensitivity) and (Matrix Structure and Factorisations)\n",
    "\n",
    "This question asks to generate and compute several different statistics from the matrix"
   ]
  },
  {
   "cell_type": "code",
   "execution_count": 11,
   "metadata": {},
   "outputs": [
    {
     "name": "stdout",
     "output_type": "stream",
     "text": [
      "sumA: 13.509935844715358\n",
      "condA: 2.0778039513457235e+17\n",
      "detA: -7.584782657868772e-83\n",
      "diag5Q: [-0.28867513 -0.77990597 -0.35925163  0.14627472 -0.40354541]\n"
     ]
    }
   ],
   "source": [
    "import numpy as np\n",
    "from numpy import pi, cos\n",
    "from numpy.linalg import cond, det\n",
    "from scipy.linalg import norm, qr\n",
    "\n",
    "# (a).  Generating a matrix and sum\n",
    "n = 12\n",
    "def f(i, j):\n",
    "    if i == 0:\n",
    "        if j == 0:\n",
    "            return 1\n",
    "        else:\n",
    "            return 0\n",
    "    return 1/((2*i + 1)**j)\n",
    "A = np.zeros((n,n))\n",
    "for i in range(0, n):\n",
    "    for j in range(0, n):\n",
    "        A[i,j] = f(i, j)\n",
    "\n",
    "sumA = sum(sum(A))\n",
    "print(f\"sumA: {sumA}\")\n",
    "\n",
    "condA = cond(A)\n",
    "print(f\"condA: {condA}\")\n",
    "\n",
    "comment1='yes'\n",
    "\n",
    "detA = det(A)\n",
    "print(f\"detA: {detA}\")\n",
    "\n",
    "comment2='no'\n",
    "\n",
    "q,r = qr(A)\n",
    "diag5Q = np.diag(q)[:5]\n",
    "print(f\"diag5Q: {diag5Q}\")"
   ]
  },
  {
   "cell_type": "code",
   "execution_count": 15,
   "metadata": {},
   "outputs": [
    {
     "name": "stdout",
     "output_type": "stream",
     "text": [
      "[   0.            0.86037863  -15.50499537   82.13272647 -130.58607689]\n"
     ]
    }
   ],
   "source": [
    "def f(x):\n",
    "    return np.sin(10*np.pi*x)/(100*np.exp(x))\n",
    "x = np.array([0, 1/9, 1/7, 1/5, 1/3])\n",
    "A = np.vander(x, N=5, increasing=True)\n",
    "\n",
    "veca = np.linalg.solve(A, f(x))\n",
    "\n",
    "print(veca)"
   ]
  },
  {
   "cell_type": "markdown",
   "metadata": {},
   "source": [
    "### Question 2\n",
    "Newton's Method"
   ]
  },
  {
   "cell_type": "code",
   "execution_count": 4,
   "metadata": {},
   "outputs": [
    {
     "name": "stdout",
     "output_type": "stream",
     "text": [
      "x1: 2.3455853786540635\n",
      "x2: 1.7650623277302933\n",
      "x3: 1.2168575333869849\n",
      "xe: 0.6884238065328873\n"
     ]
    }
   ],
   "source": [
    "from numpy import zeros, exp\n",
    "\n",
    "x0 = 3\n",
    "\n",
    "def f(x):\n",
    "    return (x-1)**4 + exp(x)\n",
    "\n",
    "def g(x):\n",
    "    return f(x) - 2\n",
    "\n",
    "def g_prime(x):\n",
    "    return 4*(x-1)**3 + exp(x)\n",
    "\n",
    "def newton_step(x):\n",
    "    x2 = x - (g(x)/g_prime(x))\n",
    "    return x2\n",
    "\n",
    "x1 = newton_step(x0)\n",
    "x2 = newton_step(x1)\n",
    "x3 = newton_step(x2)\n",
    "\n",
    "print(f\"x1: {x1}\")\n",
    "print(f\"x2: {x2}\")\n",
    "print(f\"x3: {x3}\")\n",
    "\n",
    "tol = 1e-8\n",
    "cur_x = x0\n",
    "while True:\n",
    "    xe = newton_step(cur_x)\n",
    "    if (abs(xe - cur_x) < tol):\n",
    "        break\n",
    "    cur_x = xe\n",
    "print(f\"xe: {xe}\")"
   ]
  },
  {
   "cell_type": "markdown",
   "metadata": {},
   "source": [
    "### Question 5\n",
    "Boundary-Value Problems"
   ]
  },
  {
   "cell_type": "code",
   "execution_count": 35,
   "metadata": {},
   "outputs": [
    {
     "data": {
      "text/plain": [
       "array([0.04368579, 0.12341851, 0.2678357 , 0.52877524])"
      ]
     },
     "execution_count": 35,
     "metadata": {},
     "output_type": "execute_result"
    }
   ],
   "source": [
    "from numpy.linalg import solve, norm\n",
    "from numpy import diag, exp, ones, zeros, linspace, inf\n",
    "import numpy as np\n",
    "\n",
    "def perform_system(N = 5):\n",
    "    h = 1/N\n",
    "\n",
    "    x_all = [n*h for n in range(0, N+1)]\n",
    "    x = x_all[1:-1]\n",
    "\n",
    "    def p(x):\n",
    "        return exp(-3*x)\n",
    "\n",
    "    def q(x):\n",
    "        return 1\n",
    "\n",
    "    A = diag([-2] * (N-1)) + diag([1] * (N-2), 1) + diag([1] * (N-2), -1)\n",
    "    B_init = diag([-1] * (N-2), -1) + diag([1] * (N-2), 1)\n",
    "    B = diag([p(xi) for xi in x]) @ B_init\n",
    "    C = diag([q(xi) for xi in x])\n",
    "    R = np.zeros(N-1)\n",
    "    R[-1] = 1/h**2 - 3/(2*h) * exp(-3 * (N-1) * h)\n",
    "\n",
    "    LHS = (-1 / h**2) * A + (3 / (2 * h)) * B + 9*C\n",
    "    RHS = R\n",
    "    Uapprox = solve(LHS, RHS)\n",
    "    return Uapprox\n",
    "\n",
    "perform_system(5)\n"
   ]
  },
  {
   "cell_type": "code",
   "execution_count": 36,
   "metadata": {},
   "outputs": [
    {
     "name": "stdout",
     "output_type": "stream",
     "text": [
      "(39,)\n",
      "(39,)\n",
      "0.009859587751005316\n",
      "0.004883714433524977\n"
     ]
    }
   ],
   "source": [
    "def u(x):\n",
    "    return (1-exp(3*x))/(1-exp(3))\n",
    "\n",
    "U1 = perform_system(40)\n",
    "U2 = perform_system(80)\n",
    "\n",
    "u1_true = np.array([u(x) for x in linspace(0, 1, 40)])[:-1]\n",
    "u2_true = np.array([u(x) for x in linspace(0, 1, 80)])[:-1]\n",
    "\n",
    "print(U1.shape)\n",
    "print(u1_true.shape)\n",
    "\n",
    "print(norm(U1 - u1_true, inf))\n",
    "print(norm(U2 - u2_true, inf))"
   ]
  },
  {
   "cell_type": "markdown",
   "metadata": {},
   "source": [
    "### Question 4\n",
    "Cubic Spline Interpolation, LSQ Fitting, DFT"
   ]
  },
  {
   "cell_type": "code",
   "execution_count": 97,
   "metadata": {},
   "outputs": [
    {
     "name": "stdout",
     "output_type": "stream",
     "text": [
      "[89.11551718 89.7353398  56.78286361 41.37721576 62.41078334 62.02855087\n",
      " 47.29204316 42.80659648 56.36219093]\n",
      "[83.44709974 85.27932684 59.24535957 47.4801628  63.76370156 66.27466822\n",
      " 42.08570637 35.33575429 65.25214159]\n",
      "------------------\n",
      "[94.80744577729573, 53.98808519494918, 42.043406834250746, 63.249650061961134, 60.52863068999574, 49.50790369246462, 39.145054674855146, 63.88337010733187, 92.44200996716202]\n"
     ]
    }
   ],
   "source": [
    "from numpy import ones, linspace, loadtxt, pi, exp, cos, sin\n",
    "from scipy.interpolate import CubicSpline\n",
    "from scipy.fft import fft\n",
    "from scipy.linalg import lstsq\n",
    "\n",
    "tdata = np.arange(1, 11)\n",
    "ydata = np.array([77.64, 94.53, 68.17, 39.68, 56.99, 65.23, 50.8, 43.29, 48.66, 93.17])\n",
    "\n",
    "spl = CubicSpline(tdata, ydata, bc_type='not-a-knot')\n",
    "\n",
    "teval = np.arange(1, 10) + 0.3\n",
    "yspteval = spl(teval)\n",
    "print(yspteval)\n",
    "\n",
    "A = np.column_stack((np.array([1] * len(tdata)), tdata, exp(tdata), cos(pi*tdata/2)))\n",
    "coeffs, *_ = lstsq(A, ydata)\n",
    "Aeval = np.column_stack((np.array([1] * len(teval)), teval, exp(teval), cos(pi*teval/2)))\n",
    "yLSteval = Aeval @ coeffs\n",
    "print(yLSteval)\n",
    "\n",
    "print(\"------------------\")\n",
    "\n",
    "m = 10\n",
    "\n",
    "w = fft(ydata)\n",
    "a0 = w[0].real / m\n",
    "\n",
    "a = zeros(5)\n",
    "for k in range(0, 4):\n",
    "    a[k] = (2 / m) * w[k+1].real\n",
    "a[4]=(w[5].real/m)\n",
    "b = [3.9119, 1.7992, -0.4331, -4.9655, 0]\n",
    "ydfteval = [a0 + np.sum([a[i-1] * cos(2*pi*i*t/m) + b[i-1] * sin(2*pi*i*t/m) for i in range(1,6)]) for t in teval]\n",
    "print(ydfteval)\n"
   ]
  },
  {
   "cell_type": "markdown",
   "metadata": {},
   "source": [
    "### Question 3\n",
    "Numerical Integration"
   ]
  },
  {
   "cell_type": "code",
   "execution_count": 126,
   "metadata": {},
   "outputs": [
    {
     "name": "stdout",
     "output_type": "stream",
     "text": [
      "9\n",
      "0.1111111111111111\n",
      "[0.         0.11111111 0.22222222 0.33333333 0.44444444 0.55555556\n",
      " 0.66666667 0.77777778 0.88888889 1.        ]\n",
      "[1. 2. 2. 2. 2. 2. 2. 2. 2. 1.]\n",
      "[0.0, 0.9254036134008974, 1.2357974537342358, 1.368533971412446, 1.3554897600629898, 1.2118901430400677, 0.9562921842487448, 0.6193985693941798, 0.2563979721463201, 0.0]\n",
      "0.8810226297155422\n",
      "0.9036939571135776\n",
      "0.022671327398035346\n"
     ]
    }
   ],
   "source": [
    "N=9\n",
    "h = (1-0)/N\n",
    "\n",
    "print(N)\n",
    "print(h)\n",
    "\n",
    "x = linspace(0, 1, N+1)\n",
    "print(x)\n",
    "\n",
    "w = np.empty(N+1)\n",
    "w[0] = w[-1] = 1\n",
    "w[1:-1] = 2\n",
    "print(w)\n",
    "\n",
    "def f(x):\n",
    "    return (2-2*x**2)**(1.5)*np.sqrt(x)\n",
    "\n",
    "f = [f(xi) for xi in x]\n",
    "print(f)\n",
    "\n",
    "trapf = ((0.5 * w).T @ f)*h\n",
    "print(trapf)\n",
    "\n",
    "from scipy.special import gamma\n",
    "print(16/(15*pi**0.5)*(gamma(0.75))**2)\n",
    "errtrap = np.abs(16/(15*pi**0.5)*(gamma(0.75))**2 - trapf)\n",
    "print(errtrap)"
   ]
  },
  {
   "cell_type": "code",
   "execution_count": null,
   "metadata": {},
   "outputs": [
    {
     "name": "stdout",
     "output_type": "stream",
     "text": [
      "0.33498855671317784\n"
     ]
    }
   ],
   "source": [
    "N, h = 9, 1/9\n",
    "x = y = linspace(0, 1, N+1)\n",
    "\n",
    "X,Y = np.meshgrid(x,y,indexing='ij')\n",
    "\n",
    "F = sin(X * Y) * np.sqrt(X + 2 * Y)\n",
    "trap2dF = (h**2 / 4) * w @ F @ w.T\n",
    "\n",
    "print(trap2dF)"
   ]
  }
 ],
 "metadata": {
  "kernelspec": {
   "display_name": "Python 3",
   "language": "python",
   "name": "python3"
  },
  "language_info": {
   "codemirror_mode": {
    "name": "ipython",
    "version": 3
   },
   "file_extension": ".py",
   "mimetype": "text/x-python",
   "name": "python",
   "nbconvert_exporter": "python",
   "pygments_lexer": "ipython3",
   "version": "3.11.5"
  }
 },
 "nbformat": 4,
 "nbformat_minor": 2
}
