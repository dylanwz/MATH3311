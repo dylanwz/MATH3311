{
 "cells": [
  {
   "cell_type": "code",
   "execution_count": 2,
   "id": "27fee890",
   "metadata": {},
   "outputs": [],
   "source": [
    "import numpy as np"
   ]
  },
  {
   "cell_type": "code",
   "execution_count": 19,
   "id": "ee49c5d6",
   "metadata": {},
   "outputs": [
    {
     "name": "stdout",
     "output_type": "stream",
     "text": [
      "sumA: 27.224108678060876\n",
      "condA: 3.161309735587093e+17\n",
      "comment1: no\n",
      "detA: -1.2411566175315346e-80\n",
      "SumsvA: 7.520671865894069\n"
     ]
    }
   ],
   "source": [
    "from numpy import pi, cos\n",
    "from numpy.linalg import cond, det\n",
    "from scipy.linalg import norm, svd\n",
    "\n",
    "n = 12\n",
    "A = np.ones((n+1, n+1))\n",
    "for i in range(1, n+1):\n",
    "    for j in range(1, n+1):\n",
    "        A[i,j] = 1/(2*i)**j\n",
    "sumA = sum(sum(A))\n",
    "print(f\"sumA: {sumA}\")\n",
    "\n",
    "condA = cond(A, p=2)\n",
    "print(f\"condA: {condA}\")\n",
    "\n",
    "comment1 = 'yes' if condA <= 1 else 'no'\n",
    "print(f\"comment1: {comment1}\")\n",
    "\n",
    "detA = det(A)\n",
    "print(f\"detA: {detA}\")\n",
    "\n",
    "_, s, _ = svd(A)\n",
    "SumsvA = sum(s)\n",
    "print(f\"SumsvA: {SumsvA}\")\n"
   ]
  },
  {
   "cell_type": "code",
   "execution_count": 22,
   "id": "a3779aed",
   "metadata": {},
   "outputs": [
    {
     "name": "stdout",
     "output_type": "stream",
     "text": [
      "veca: [  1.00798809   0.7310131  -16.13915809 -44.18283957 153.30979796\n",
      " -92.72680149]\n"
     ]
    }
   ],
   "source": [
    "x_pts = np.array([1, 1/2, 1/4, 1/6, 1/8, 1/10])\n",
    "f1g = lambda x : (x+1) * cos(2 * pi * x)\n",
    "y_pts = f1g(x_pts)\n",
    "\n",
    "from scipy.linalg import solve\n",
    "veca = solve(A[:6, :6], y_pts)\n",
    "print(f\"veca: {veca}\")"
   ]
  },
  {
   "cell_type": "code",
   "execution_count": 26,
   "id": "15fdebf4",
   "metadata": {},
   "outputs": [
    {
     "name": "stdout",
     "output_type": "stream",
     "text": [
      "x1: 1.9453422637809399, x2: 1.4832195389998697, x3: 1.1823751896755503\n",
      "xe: 1.0985808071939192\n",
      "f1f2: 1.0985808071939192\n"
     ]
    }
   ],
   "source": [
    "from numpy import zeros, exp\n",
    "f1 = lambda x : (x-1)**4\n",
    "f2 = lambda x : 3 - exp(x)\n",
    "g = lambda x : f1(x) - f2(x)\n",
    "g_prime = lambda x : 4*(x-1)**3 + exp(x)\n",
    "newton_step = lambda xn : xn - g(xn)/g_prime(xn)\n",
    "\n",
    "x0 = 5/2\n",
    "x1 = newton_step(x0)\n",
    "x2 = newton_step(x1)\n",
    "x3 = newton_step(x2)\n",
    "print(f\"x1: {x1}, x2: {x2}, x3: {x3}\")\n",
    "\n",
    "tol = 1e-8\n",
    "xn = x0\n",
    "xe = None\n",
    "while True:\n",
    "    xe = newton_step(xn)\n",
    "    if (abs(xe - xn) < tol):\n",
    "        break\n",
    "    xn = xe\n",
    "print(f\"xe: {xe}\")\n",
    "\n",
    "f1f2 = xe\n",
    "print(f\"f1f2: {f1f2}\")"
   ]
  },
  {
   "cell_type": "code",
   "execution_count": 32,
   "id": "f4766d96",
   "metadata": {},
   "outputs": [
    {
     "name": "stdout",
     "output_type": "stream",
     "text": [
      "simpf: 1.0229712594932272\n",
      "errsimp: 0.0071072097854771865\n"
     ]
    }
   ],
   "source": [
    "from numpy import ones, sqrt, pi, cos, exp, linspace\n",
    "from scipy.special import erf\n",
    "\n",
    "N = 10\n",
    "h = 1/N\n",
    "x = linspace(0, 1, N+1)\n",
    "\n",
    "w = np.ones(N+1)\n",
    "w[1::2] = 4\n",
    "w[2:-1:2] = 2\n",
    "\n",
    "f3 = lambda x : exp(x) * sqrt(1-x)\n",
    "f = f3(x)\n",
    "\n",
    "simpf = (w.T @ f) * h/3\n",
    "print(f\"simpf: {simpf}\")\n",
    "\n",
    "true_sol = 1/2 * (sqrt(pi) * erf(1) * exp(1)) - 1\n",
    "errsimp = abs(simpf - true_sol)\n",
    "print(f\"errsimp: {errsimp}\")\n"
   ]
  },
  {
   "cell_type": "code",
   "execution_count": 33,
   "id": "65263bf9",
   "metadata": {},
   "outputs": [
    {
     "name": "stdout",
     "output_type": "stream",
     "text": [
      "simp2dF: -0.09026541105629893\n"
     ]
    }
   ],
   "source": [
    "y = linspace(0, 1, N+1)\n",
    "X,Y = np.meshgrid(x,y,indexing='ij')\n",
    "j_integrand = lambda x,y : cos(2*x+y) * sqrt(x*y)\n",
    "F = j_integrand(X,Y)\n",
    "simp2dF = h**2/9 * (w @ F @ w.T)\n",
    "print(f\"simp2dF: {simp2dF}\")"
   ]
  },
  {
   "cell_type": "code",
   "execution_count": 56,
   "id": "1703463b",
   "metadata": {},
   "outputs": [
    {
     "name": "stdout",
     "output_type": "stream",
     "text": [
      "yspteval: [63.64970753 95.07255849 63.35494151 82.43767548 90.52935657 65.97364824\n",
      " 62.98605048 49.04714984 35.14785016 30.4257492 ]\n",
      "xLS: [ 171.44743728   60.70423126   -3.34496404 -141.0944602     6.16713255]\n",
      "yLSteval: [105.55528355  86.53371981  74.85123919  74.61205131  81.93522856\n",
      "  77.60052832  60.61768555  47.81103018  38.76306718  15.73311762]\n",
      "ydfteval: [103.45877763268165, 55.83837394245035, 87.25902437128326, 88.68836182411269, 66.29096666666665, 62.456762819472075, 51.172810543205635, 29.08075939088296, 59.354162809244656, 103.45877763268166]\n"
     ]
    }
   ],
   "source": [
    "from numpy import ones, linspace, loadtxt, pi, sqrt, cos, sin\n",
    "from scipy.interpolate import CubicSpline\n",
    "from scipy.fft import fft\n",
    "from scipy.linalg import lstsq\n",
    "\n",
    "tdata = np.array([1,2,3,4,5,6,7,8,9])\n",
    "ydata = np.array([94.88,79.48,61.95,99.67,72.34,66.05,56.64,41.51,31.08])\n",
    "\n",
    "spl = CubicSpline(tdata, ydata, bc_type='not-a-knot')\n",
    "teval = np.arange(0, 10) + 0.5\n",
    "yspteval = spl(teval)\n",
    "print(f\"yspteval: {yspteval}\")\n",
    "\n",
    "M = np.column_stack((\n",
    "    np.ones(9),\n",
    "    tdata,\n",
    "    tdata**2,\n",
    "    sqrt(tdata),\n",
    "    sin(pi * tdata/2)\n",
    "))\n",
    "xLS,_,_,_ = lstsq(M, ydata)\n",
    "print(f\"xLS: {xLS}\")\n",
    "M_eval = np.column_stack((\n",
    "    np.ones(10),\n",
    "    teval,\n",
    "    teval**2,\n",
    "    sqrt(teval),\n",
    "    sin(pi * teval/2)\n",
    "))\n",
    "yLSteval = M_eval @ xLS\n",
    "print(f\"yLSteval: {yLSteval}\")\n",
    "\n",
    "w = fft(ydata)\n",
    "m = 9\n",
    "a0 = w[0]/m\n",
    "\n",
    "b_init = np.zeros(5)\n",
    "for k in range(1, 5):\n",
    "    b_init[k] = -2/m * w[k].imag\n",
    "b = b_init[1:]\n",
    "\n",
    "a = np.array([a0.real, -2.3688, 9.9369, 16.6633, 3.5819])\n",
    "ydfteval = [a[0] + np.sum([a[i]*cos(2*pi*i*t/m) + b_init[i]*sin(2*pi*i*t/m) for i in range(1, 5)]) for t in teval]\n",
    "print(f\"ydfteval: {ydfteval}\")"
   ]
  },
  {
   "cell_type": "code",
   "execution_count": 83,
   "id": "816041f9",
   "metadata": {},
   "outputs": [
    {
     "name": "stdout",
     "output_type": "stream",
     "text": [
      "sumB: -0.36940178896076037\n",
      "Uapprox: [0.71321487 0.47839554 0.28614985 0.12878524]\n"
     ]
    }
   ],
   "source": [
    "from numpy.linalg import solve, norm\n",
    "from numpy import diag, exp, ones, zeros, linspace, inf\n",
    "\n",
    "def do(N=5):\n",
    "    h = 1/N\n",
    "    x = linspace(0, 1, N+1)\n",
    "    x_pts = x[1:-1]\n",
    "    A = diag([-2] * (N-1)) + diag(np.ones(N-2), 1) + diag(np.ones(N-2), -1)\n",
    "    B = np.diag(exp(x_pts - 1)) @ (diag(np.ones(N-2),1) - diag(np.ones(N-2), -1))\n",
    "    C = np.eye(N-1)\n",
    "    R = np.zeros(N-1)\n",
    "    R[0] = 1/h**2 - 1/(2*h) * exp(h-1)\n",
    "\n",
    "    Uapprox = solve(-1/h**2 * A - 1/(2*h) * B + C, R)\n",
    "    return Uapprox, B.sum()\n",
    "Uapprox, sumB = do()\n",
    "print(f\"sumB: {sumB}\")\n",
    "print(f\"Uapprox: {Uapprox}\")\n"
   ]
  },
  {
   "cell_type": "code",
   "execution_count": 84,
   "id": "b1a221af",
   "metadata": {},
   "outputs": [
    {
     "name": "stdout",
     "output_type": "stream",
     "text": [
      "E: [1.2536427035914066e-06, 3.135926765485131e-07]\n"
     ]
    }
   ],
   "source": [
    "true_u = lambda x : (1 - exp(1-x))/(1 - exp(1))\n",
    "true_40 = true_u(linspace(0,1,41)[1:-1])\n",
    "true_80 = true_u(linspace(0,1,81)[1:-1])\n",
    "U1,_ = do(40)\n",
    "U2,_ = do(80)\n",
    "E1 = norm(U1 - true_40, ord=inf)\n",
    "E2 = norm(U2 - true_80, ord=inf)\n",
    "E = [E1, E2]\n",
    "print(f\"E: {E}\")"
   ]
  }
 ],
 "metadata": {
  "kernelspec": {
   "display_name": "Python 3",
   "language": "python",
   "name": "python3"
  },
  "language_info": {
   "codemirror_mode": {
    "name": "ipython",
    "version": 3
   },
   "file_extension": ".py",
   "mimetype": "text/x-python",
   "name": "python",
   "nbconvert_exporter": "python",
   "pygments_lexer": "ipython3",
   "version": "3.11.5"
  }
 },
 "nbformat": 4,
 "nbformat_minor": 5
}
