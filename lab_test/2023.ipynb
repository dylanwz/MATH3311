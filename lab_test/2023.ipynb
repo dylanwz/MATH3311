{
 "cells": [
  {
   "cell_type": "code",
   "execution_count": 2,
   "metadata": {},
   "outputs": [
    {
     "name": "stdout",
     "output_type": "stream",
     "text": [
      "a: 0.9166666666666666, b: 4.0, c: 0.9\n",
      "Acheck: 183.32605835676466\n",
      "condA: 32.596407004814566\n",
      "EigA: [[-0.51714282  0.41650828  1.41176177  2.42628632  3.4500975   4.48131521\n",
      "   5.52128313  6.57497945  7.65823786 13.57667332]]\n",
      "[[0. 0. 0. 1.]\n",
      " [1. 0. 0. 0.]\n",
      " [0. 0. 1. 0.]\n",
      " [0. 1. 0. 0.]]\n"
     ]
    }
   ],
   "source": [
    "import numpy as np\n",
    "from scipy.linalg import norm, lu, lu_factor, lu_factor\n",
    "# Q1PA\n",
    "n = 10\n",
    "A = np.zeros((n, n))\n",
    "for i in range(0, n):\n",
    "    for j in range(0, n):\n",
    "        A[i,j] = (j+i+1)/(j+i+1+1)\n",
    "    A[i,i] = i\n",
    "\n",
    "a = A[3][7]\n",
    "b = A[4][4]\n",
    "c = A[6][2]\n",
    "print(f\"a: {a}, b: {b}, c: {c}\")\n",
    "\n",
    "Acheck = norm(A.T @ A - np.eye(n), ord=2)\n",
    "print(f\"Acheck: {Acheck}\")\n",
    "\n",
    "comment1=\"No, because orthogonal <=> M^T M = I\"\n",
    "\n",
    "condA = np.linalg.cond(A)\n",
    "print(f\"condA: {condA}\")\n",
    "\n",
    "EigA, vec = np.linalg.eig(A)\n",
    "EigA.sort()\n",
    "EigA = EigA.reshape(1, -1)\n",
    "print(f\"EigA: {EigA}\")\n",
    "\n",
    "comment2 = 'no because one eigenvalue is negative'\n",
    "\n",
    "n = 4\n",
    "P,L,U = lu(A[0:4][0:4])\n",
    "PM = P.T\n",
    "print(PM)\n"
   ]
  },
  {
   "cell_type": "code",
   "execution_count": 5,
   "metadata": {},
   "outputs": [
    {
     "name": "stdout",
     "output_type": "stream",
     "text": [
      "x0: 3\n",
      "x1: 2.3455853786540635, x2: 1.7650623277302933, x3: 1.2168575333869849\n",
      "invf2: 0.6884238065328873\n"
     ]
    }
   ],
   "source": [
    "def f(x):\n",
    "    return (x-1)**4 + np.exp(x)\n",
    "def g(x):\n",
    "    return f(x) - 2\n",
    "def g_prime(x):\n",
    "    return 4*(x-1)**3 + np.exp(x)\n",
    "\n",
    "def newton_step(x):\n",
    "    return x - g(x)/g_prime(x)\n",
    "\n",
    "x0 = 3\n",
    "print(f\"x0: {x0}\")\n",
    "\n",
    "x1 = newton_step(x0)\n",
    "x2 = newton_step(x1)\n",
    "x3 = newton_step(x2)\n",
    "print(f\"x1: {x1}, x2: {x2}, x3: {x3}\")\n",
    "\n",
    "tol = 2**(-52)\n",
    "xe = x0\n",
    "while True:\n",
    "    xn = newton_step(xe)\n",
    "    if (np.abs(xn - xe) < tol):\n",
    "        break\n",
    "    xe = xn\n",
    "invf2 = xe\n",
    "print(f\"invf2: {invf2}\")"
   ]
  },
  {
   "cell_type": "code",
   "execution_count": 30,
   "metadata": {},
   "outputs": [
    {
     "name": "stdout",
     "output_type": "stream",
     "text": [
      "[0.         0.16666667 0.33333333 0.5        0.66666667 0.83333333\n",
      " 1.        ]\n",
      "[1. 2. 2. 2. 2. 2. 1.]\n",
      "[0.0, 0.30023423879400063, 1.0816871777305561, 1.7320508075688772, 1.5600628672889287, 0.624512383241704, 4.499279347985573e-32]\n",
      "0.8830912457706779\n",
      "0.883927211580961\n",
      "0.8832365870682543\n",
      "0.00014534129757637348\n",
      "0.000690624512706739\n"
     ]
    }
   ],
   "source": [
    "N = 6\n",
    "h = 1/N\n",
    "def f(x):\n",
    "    return 3**x * (np.sin(np.pi*x))**2\n",
    "all_x = np.linspace(0, 1, N+1)\n",
    "w = np.ones(N+1) * 2\n",
    "w[0] = w[-1] = 1\n",
    "f = [f(x) for x in all_x]\n",
    "print(all_x)\n",
    "print(w)\n",
    "print(f)\n",
    "trapF = np.sum((w*0.5).T @ f) * h\n",
    "print(trapF)\n",
    "\n",
    "ws = 2*np.ones(N+1)\n",
    "ws[0] = ws[N] = 1\n",
    "ws[1::2] = 4\n",
    "Qfs = h/3 * ws @ (np.array(f).T)\n",
    "print(Qfs)\n",
    "\n",
    "trsol = (4*((np.pi)**2))/(np.log(3)*((4*np.pi**2)+(np.log(3)**2)))\n",
    "print(trsol)\n",
    "errtrap = np.abs(trapF - trsol)\n",
    "errsimp = np.abs(trsol - Qfs)\n",
    "print(errtrap)\n",
    "print(errsimp)"
   ]
  },
  {
   "cell_type": "code",
   "execution_count": 49,
   "metadata": {},
   "outputs": [
    {
     "name": "stdout",
     "output_type": "stream",
     "text": [
      "[177.92462938 158.97862062 148.01613814 159.71120182 347.58530458\n",
      " 449.25295487 381.06125094 427.52979135 465.75545865]\n",
      "-------------\n",
      "[3009.07       -274.56906447   37.78764744 -398.61493553 -117.56764744\n",
      " -440.782      -117.56764744 -398.61493553   37.78764744 -274.56906447]\n",
      "[  0.         -54.91381289   7.55752949 -79.72298711 -23.51352949\n",
      " -44.0782    ]\n",
      "[   0.         -164.20095086  -34.29683426  -31.50323052   -6.42330217\n",
      "    0.        ]\n",
      "[(189.71887814385937+0j), (137.13822068352607+0j), (160.31721497066044+0j), (348.8817888433673+0j), (448.80066167413287+0j), (387.78459080476284+0j), (402.5336613673728+0j), (532.5570757042544+0j), (303.16458384397464+0j)]\n"
     ]
    }
   ],
   "source": [
    "tdat = np.linspace(1, 10, 10)\n",
    "ydat = [106.236, 183.683, 139.279, 160.48, 207.895, 463.666, 388.06, 407.674, 442.674, 509.423]\n",
    "\n",
    "from scipy.interpolate import CubicSpline\n",
    "spl = CubicSpline(tdat, ydat)\n",
    "teval = np.arange(1, 10) + 0.5\n",
    "yspteval = spl(teval)\n",
    "print(yspteval)\n",
    "print(\"-------------\")\n",
    "from scipy.fft import fft\n",
    "w = fft(ydat)\n",
    "rw = w.real\n",
    "print(rw)\n",
    "\n",
    "m = 10\n",
    "p = 5\n",
    "a0 = w[0]/m\n",
    "\n",
    "a = np.zeros(6)\n",
    "for k in range(1, 5):\n",
    "    a[k] = 2/m * rw[k]\n",
    "\n",
    "a[5] = rw[5]/m\n",
    "\n",
    "b = np.zeros(6)\n",
    "for k in range(1, 5):\n",
    "    b[k] = -2/m * w[k].imag\n",
    "\n",
    "yteval = [a0 + np.sum([a[k] * np.cos(2*np.pi*k*t/m) + b[k] * np.sin(2*np.pi * k * t/m) for k in range(1,p+1)]) for t in teval]\n",
    "print(a)\n",
    "print(b)\n",
    "print(yteval)"
   ]
  },
  {
   "cell_type": "code",
   "execution_count": null,
   "metadata": {},
   "outputs": [
    {
     "name": "stdout",
     "output_type": "stream",
     "text": [
      "[0.   0.25 0.5  0.75 1.  ]\n",
      "[[-2.0625  1.      0.    ]\n",
      " [ 1.     -2.0625  1.    ]\n",
      " [ 0.      1.     -2.0625]]\n",
      "[-0.49599819 -0.71060028 -1.52724819]\n",
      "[0.9909891  1.54791684 1.4909891 ]\n"
     ]
    }
   ],
   "source": [
    "from scipy.linalg import solve\n",
    "N = 4\n",
    "h=1/N\n",
    "x = np.linspace(0, 1, 5)\n",
    "print(x)\n",
    "\n",
    "A5 = np.diag([-2] * (N-1)) + np.diag(np.ones(N-2), 1) + np.diag(np.ones(N-2), -1) - 1/4**2 * np.diag(np.ones(N-1))\n",
    "print(A5)\n",
    "\n",
    "f5 = lambda x: -(np.pi**2 + 1)*np.sin(np.pi*x)-x\n",
    "\n",
    "a = np.array([h**2*f5(x[1]), h**2*f5(x[2]), h**2*f5(x[3]) - 1])\n",
    "print(a)\n",
    "U4 = solve(A5, a)\n",
    "print(U4)"
   ]
  },
  {
   "cell_type": "code",
   "execution_count": 97,
   "metadata": {},
   "outputs": [
    {
     "name": "stdout",
     "output_type": "stream",
     "text": [
      "(79,)\n",
      "(79, 79)\n",
      "(159,)\n",
      "(159, 159)\n",
      "(319,)\n",
      "(319, 319)\n",
      "0.0001166951712208153, 2.917236450450389e-05, 7.292998625452185e-06\n"
     ]
    }
   ],
   "source": [
    "from scipy.linalg import solve, norm\n",
    "def do5(N):\n",
    "    h=1/N\n",
    "    x = np.linspace(0, 1, N+1)\n",
    "\n",
    "    A5 = np.diag([-2] * (N-1)) + np.diag(np.ones(N-2), 1) + np.diag(np.ones(N-2), -1) - h**2 * np.diag(np.ones(N-1))\n",
    "\n",
    "    f5 = lambda x: -(np.pi**2 + 1)*np.sin(np.pi*x)-x\n",
    "\n",
    "    a = np.array([h**2 * f5(xi) for xi in x[1:-1]])\n",
    "    a[-1] = a[-1] - 1\n",
    "\n",
    "    print(a.shape)\n",
    "    print(A5.shape)\n",
    "    U4 = solve(A5, a)\n",
    "    return U4\n",
    "\n",
    "U80 = do5(80)\n",
    "U160 = do5(160)\n",
    "U320 = do5(320)\n",
    "def real_u(x):\n",
    "    return np.sin(np.pi*x) + x\n",
    "true_u = real_u(x)\n",
    "E1 = norm(U80 - real_u(np.linspace(0, 1, 80+1)[1:-1]), np.inf)\n",
    "E2 = norm(U160 - real_u(np.linspace(0, 1, 160+1)[1:-1]), np.inf)\n",
    "E3 = norm(U320 - real_u(np.linspace(0, 1, 320+1)[1:-1]), np.inf)\n",
    "print(f\"{E1}, {E2}, {E3}\")"
   ]
  },
  {
   "cell_type": "code",
   "execution_count": 100,
   "metadata": {},
   "outputs": [
    {
     "name": "stdout",
     "output_type": "stream",
     "text": [
      "2.0000706336949037\n",
      "2.0000182982918147\n"
     ]
    }
   ],
   "source": [
    "OC1 = np.log(E1/E2)/np.log(2)\n",
    "OC2 = np.log(E2/E3)/np.log(2)\n",
    "print(OC1)\n",
    "print(OC2)"
   ]
  }
 ],
 "metadata": {
  "kernelspec": {
   "display_name": "Python 3",
   "language": "python",
   "name": "python3"
  },
  "language_info": {
   "codemirror_mode": {
    "name": "ipython",
    "version": 3
   },
   "file_extension": ".py",
   "mimetype": "text/x-python",
   "name": "python",
   "nbconvert_exporter": "python",
   "pygments_lexer": "ipython3",
   "version": "3.11.5"
  }
 },
 "nbformat": 4,
 "nbformat_minor": 2
}
