{
 "cells": [
  {
   "cell_type": "code",
   "execution_count": null,
   "id": "ca2f4642",
   "metadata": {},
   "outputs": [
    {
     "name": "stdout",
     "output_type": "stream",
     "text": [
      "1022.0\n"
     ]
    }
   ],
   "source": [
    "# (A): Underflow\n",
    "import numpy as np\n",
    "min_log = -np.log2(np.finfo(float).tiny)\n",
    "print(min_log)\n",
    "\n",
    "# (Explanation).\n",
    "# Tute 1, Question 5"
   ]
  },
  {
   "cell_type": "code",
   "execution_count": null,
   "id": "3aa43dea",
   "metadata": {},
   "outputs": [
    {
     "name": "stdout",
     "output_type": "stream",
     "text": [
      "1074\n"
     ]
    }
   ],
   "source": [
    "# (B): Underflow\n",
    "import numpy as np\n",
    "\n",
    "x = 1\n",
    "while np.float64(2.0)**(-1 * (x + 1)) > 0:\n",
    "    x += 1\n",
    "print(x)\n",
    "\n",
    "# (Explanation).\n",
    "# Tute 1, Question 5"
   ]
  },
  {
   "cell_type": "code",
   "execution_count": 6,
   "id": "f0720646",
   "metadata": {},
   "outputs": [
    {
     "name": "stdout",
     "output_type": "stream",
     "text": [
      "20\n"
     ]
    }
   ],
   "source": [
    "# (D): Largest n! that is fully represented by 64-bits\n",
    "import math\n",
    "import sys\n",
    "\n",
    "limit = sys.maxsize \n",
    "nd = 1\n",
    "\n",
    "while math.factorial(nd+1) <= limit:\n",
    "    nd += 1\n",
    "\n",
    "print(nd)\n",
    "\n",
    "# (Explanation).\n",
    "# - sysmax is 9223372036854775807 = 2^63 - 1 (64 bits)"
   ]
  },
  {
   "cell_type": "code",
   "execution_count": 13,
   "id": "da2d7944",
   "metadata": {},
   "outputs": [
    {
     "name": "stdout",
     "output_type": "stream",
     "text": [
      "11\n"
     ]
    }
   ],
   "source": [
    "# (E): Approximating Pi\n",
    "import math\n",
    " \n",
    "def series_expansion(npi):\n",
    "    s = 0.0\n",
    "    for k in range(npi):\n",
    "        s += (1 / 16**k) * (\n",
    "            4 / (8*k + 1) -\n",
    "            2 / (8*k + 4) -\n",
    "            1 / (8*k + 5) -\n",
    "            1 / (8*k + 6)\n",
    "        )\n",
    "    return s\n",
    " \n",
    "npi = 1\n",
    "while series_expansion(npi) != math.pi:\n",
    "    npi += 1\n",
    "\n",
    "print(npi)\n",
    "\n",
    "# (Explanation).\n",
    "#   - We can jsut check with `approx == math.pi` because it will evaluate to the required precision\n",
    "#       - about 16 digits"
   ]
  },
  {
   "cell_type": "code",
   "execution_count": null,
   "id": "61086088",
   "metadata": {},
   "outputs": [
    {
     "name": "stdout",
     "output_type": "stream",
     "text": [
      "0.0, 2.500000413701872e-21\n"
     ]
    }
   ],
   "source": [
    "# (F): Catastrophic Cancellation\n",
    "x1 = 1.0\n",
    "x2 = 1.0 + 1e-10\n",
    "mu = (x1 + x2) / 2\n",
    "\n",
    "lhs = 0.5 * (x1**2 + x2**2) - ((x1 + x2)/2)**2\n",
    "rhs = 0.5 * ((x1 - mu)**2 + (x2 - mu)**2)\n",
    "\n",
    "sigma2 = rhs\n",
    "\n",
    "print(f\"{lhs}, {rhs}\")\n",
    "\n",
    "# (Explanation).\n",
    "#   - the expected result is non-zero because the two points are not the same\n",
    "#   - in lhs, we difference the sum of the squares, which means we first square the error between them (making it even larger) and then difference it\n",
    "#       - this leads directly to (total) catastrophic cancellation because\n",
    "#       - the significant digits of the small error term of 2.5 * 10^{-21} cannot be represented by FPN,\n",
    "#       - in fact, it is less than machine epsilon.\n",
    "#   - on the other hand, in rhs, we take the difference first, while it is small, then sum\n",
    "#       - this means we only ever take the difference between numbers 5 * 10^{-11} apart which is representable by the machine."
   ]
  },
  {
   "cell_type": "code",
   "execution_count": 21,
   "id": "3a8283c4",
   "metadata": {},
   "outputs": [
    {
     "name": "stdout",
     "output_type": "stream",
     "text": [
      "-4274.250221931889\n"
     ]
    }
   ],
   "source": [
    "# (G): Syntax\n",
    "import numpy as np\n",
    "from scipy.special import gammaln\n",
    "\n",
    "m = 10**3\n",
    "n = 10**2\n",
    "p = 10**-2\n",
    "q = 1 - p\n",
    "\n",
    "logB = gammaln(m + n + 1) - gammaln(m + 1) - gammaln(n + 1) + m*np.log(p) + n*np.log(q)\n",
    "\n",
    "print(logB)\n",
    "\n",
    "# (Explanation).\n",
    "#   - observe: log(B) = log(C(m+n, n)) + n*log(p) + m*log(q)"
   ]
  }
 ],
 "metadata": {
  "kernelspec": {
   "display_name": "Python 3",
   "language": "python",
   "name": "python3"
  },
  "language_info": {
   "codemirror_mode": {
    "name": "ipython",
    "version": 3
   },
   "file_extension": ".py",
   "mimetype": "text/x-python",
   "name": "python",
   "nbconvert_exporter": "python",
   "pygments_lexer": "ipython3",
   "version": "3.10.12"
  }
 },
 "nbformat": 4,
 "nbformat_minor": 5
}
